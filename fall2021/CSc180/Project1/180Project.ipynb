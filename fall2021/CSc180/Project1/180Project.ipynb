{
 "cells": [
  {
   "cell_type": "code",
   "execution_count": 1,
   "id": "95124d88-2017-4439-87e2-12e9846499b9",
   "metadata": {},
   "outputs": [],
   "source": [
    "import sklearn as sk\n",
    "import numpy as np\n",
    "import pandas as pd\n",
    "import tensorflow as tf\n",
    "import json\n",
    "import csv\n",
    "import sklearn.feature_extraction.text as sk_text\n",
    "from sklearn.model_selection import train_test_split\n",
    "from tensorflow.keras.models import Sequential\n",
    "from tensorflow.keras.layers import Dense, Activation\n",
    "from tensorflow.keras.callbacks import EarlyStopping\n",
    "from tensorflow.keras.callbacks import ModelCheckpoint\n",
    "from sklearn import metrics\n",
    "from matplotlib.pyplot import figure, show\n",
    "import matplotlib.pyplot as plt\n",
    "import random"
   ]
  },
  {
   "cell_type": "code",
   "execution_count": 2,
   "id": "2447ee0a-f9c8-496f-a188-30b98df5e80c",
   "metadata": {},
   "outputs": [],
   "source": [
    "# Make Reviews tsv file with business_id, stars, and text\n",
    "outfile=open('review_stars.tsv', 'w')\n",
    "sfile=csv.writer(outfile, delimiter='\\t', quoting=csv.QUOTE_MINIMAL)\n",
    "sfile.writerow(['business_id','stars','text']) #column titles\n",
    "\n",
    "with open('yelp_dataset/yelp_academic_dataset_review.json', encoding=\"utf-8\") as f:\n",
    "    for line in f:\n",
    "        row=json.loads(line)\n",
    "        sfile.writerow([row['business_id'],row['stars'],(row['text']).encode('utf-8')])\n",
    "outfile.close()"
   ]
  },
  {
   "cell_type": "code",
   "execution_count": 3,
   "id": "2131ff81-c675-4859-98d9-a6160a9c4933",
   "metadata": {},
   "outputs": [],
   "source": [
    "# Make business tsv file\n",
    "outfile=open('business_stars.tsv', 'w')\n",
    "sfile=csv.writer(outfile,delimiter='\\t',quoting=csv.QUOTE_MINIMAL)\n",
    "sfile.writerow(['business_id','categories', 'name'])\n",
    "\n",
    "with open('yelp_dataset/yelp_academic_dataset_business.json', encoding='utf-8') as f:\n",
    "    for line in f:\n",
    "        row = json.loads(line)\n",
    "        if(row['review_count']>30):\n",
    "            sfile.writerow([row['business_id'], row['categories'], (row['name']).encode('utf-8')])\n",
    "outfile.close()"
   ]
  },
  {
   "cell_type": "code",
   "execution_count": 4,
   "id": "526a096c-2cea-49cd-8590-6f6b8b3f65f9",
   "metadata": {},
   "outputs": [],
   "source": [
    "df_reviews=pd.read_csv('review_stars.tsv', sep='\\t')\n",
    "df_business=pd.read_csv('business_stars.tsv', sep='\\t')\n",
    "df_merged=pd.merge(df_reviews, df_business, on='business_id')\n",
    "df_merged.to_csv('merged_df.tsv',sep='\\t')\n",
    "del df_reviews\n",
    "del df_business\n",
    "del df_merged"
   ]
  },
  {
   "cell_type": "markdown",
   "id": "eb9e784b-e1db-48ce-8038-6a8367db6e33",
   "metadata": {},
   "source": [
    "# Data Processing"
   ]
  },
  {
   "cell_type": "code",
   "execution_count": 2,
   "id": "32dd5f73-f1fa-455c-8c08-e61e656805ab",
   "metadata": {},
   "outputs": [],
   "source": [
    "df_merged=pd.read_csv('merged_df.tsv', sep='\\t')"
   ]
  },
  {
   "cell_type": "code",
   "execution_count": 3,
   "id": "f51671e9-1645-4089-84a4-0752ae910615",
   "metadata": {
    "tags": []
   },
   "outputs": [],
   "source": [
    "# Limiting number of reviews due to size\n",
    "numEntries = 100000"
   ]
  },
  {
   "cell_type": "code",
   "execution_count": 4,
   "id": "08c3d882-6f58-4075-834a-2453e77ef3df",
   "metadata": {
    "scrolled": true,
    "tags": []
   },
   "outputs": [],
   "source": [
    "vectorizer = sk_text.TfidfVectorizer(\n",
    "                                    max_features=600,\n",
    "                                    max_df=2000,\n",
    "                                    min_df=1)\n",
    "matrix=vectorizer.fit_transform(df_merged.text[0:numEntries])\n",
    "tfidf_data=matrix.toarray()\n",
    "del matrix\n",
    "\n",
    "x = tfidf_data\n",
    "y = df_merged.stars[0:numEntries]"
   ]
  },
  {
   "cell_type": "markdown",
   "id": "903f7f0f-9f84-441e-9316-ebea9894f147",
   "metadata": {
    "tags": []
   },
   "source": [
    "## Finding Best Options"
   ]
  },
  {
   "cell_type": "markdown",
   "id": "8ea6558e-e310-4889-b22f-650bcc1cba8a",
   "metadata": {
    "tags": []
   },
   "source": [
    "## Variation attempts\n",
    "Layers:[20,20,20,20,1], activation:relu, RMSE: 0.9809  \n",
    "Layers:[100,50,25,10,1], activation:relu, RMSE: 0.9976  \n",
    "Layers:[20,20,1], activation:relu, RMSE: 0.9948  \n",
    "Layers:[20,20,20,20,1], activation:tanh, RMSE: 0.9805  \n",
    "Layers:[20,20,20,20,20,20,20,20,1], activation:tanh, RMSE: 0.9789 <- Best  \n",
    "Layers:[20,20,20,20,20,20,20,20,1], activation:sigmoid, RMSE: 0.9890  \n",
    "Layers:[20,20,20,1], activation:sigmoid, RMSE: 0.9879  \n",
    "Layers:[100,50,20,1], activation:sigmoid, RMSE: 0.9879  \n",
    "Layers:[20,20,20,20,20,20,20,20,1], activation:tanh, optimzer: sgd, RMSE: 0.9900\n"
   ]
  },
  {
   "cell_type": "code",
   "execution_count": 5,
   "id": "9e461265-90c2-4a5f-9f77-52261c106125",
   "metadata": {
    "tags": []
   },
   "outputs": [
    {
     "name": "stderr",
     "output_type": "stream",
     "text": [
      "2021-09-30 20:15:23.043978: E tensorflow/stream_executor/cuda/cuda_driver.cc:271] failed call to cuInit: CUDA_ERROR_NO_DEVICE: no CUDA-capable device is detected\n",
      "2021-09-30 20:15:23.044095: I tensorflow/stream_executor/cuda/cuda_diagnostics.cc:156] kernel driver does not appear to be running on this host (alec-xps13): /proc/driver/nvidia/version does not exist\n",
      "2021-09-30 20:15:23.047769: I tensorflow/core/platform/cpu_feature_guard.cc:142] This TensorFlow binary is optimized with oneAPI Deep Neural Network Library (oneDNN) to use the following CPU instructions in performance-critical operations:  AVX2 AVX512F FMA\n",
      "To enable them in other operations, rebuild TensorFlow with the appropriate compiler flags.\n",
      "2021-09-30 20:15:23.709785: W tensorflow/core/framework/cpu_allocator_impl.cc:80] Allocation of 180000000 exceeds 10% of free system memory.\n",
      "2021-09-30 20:15:23.984257: I tensorflow/compiler/mlir/mlir_graph_optimization_pass.cc:185] None of the MLIR Optimization Passes are enabled (registered 2)\n"
     ]
    },
    {
     "name": "stdout",
     "output_type": "stream",
     "text": [
      "Epoch 1/100\n"
     ]
    },
    {
     "name": "stderr",
     "output_type": "stream",
     "text": [
      "2021-09-30 20:15:25.563187: W tensorflow/core/framework/cpu_allocator_impl.cc:80] Allocation of 60000000 exceeds 10% of free system memory.\n"
     ]
    },
    {
     "name": "stdout",
     "output_type": "stream",
     "text": [
      "2344/2344 - 2s - loss: 1.2145 - val_loss: 0.9944\n",
      "Epoch 2/100\n",
      "2344/2344 - 1s - loss: 0.9999 - val_loss: 0.9684\n",
      "Epoch 3/100\n",
      "2344/2344 - 1s - loss: 0.9860 - val_loss: 0.9877\n",
      "Epoch 4/100\n",
      "2344/2344 - 1s - loss: 0.9777 - val_loss: 0.9670\n",
      "Epoch 5/100\n",
      "2344/2344 - 1s - loss: 0.9712 - val_loss: 0.9666\n",
      "Epoch 6/100\n",
      "2344/2344 - 1s - loss: 0.9665 - val_loss: 0.9624\n",
      "Epoch 7/100\n",
      "2344/2344 - 1s - loss: 0.9593 - val_loss: 0.9777\n",
      "Epoch 8/100\n",
      "2344/2344 - 1s - loss: 0.9554 - val_loss: 0.9634\n",
      "Epoch 00008: early stopping\n"
     ]
    }
   ],
   "source": [
    "model = Sequential()\n",
    "\n",
    "x_train, x_test, y_train, y_test = train_test_split(x,y,test_size=0.25, random_state=32)\n",
    "\n",
    "model.add(Dense(20, input_dim=x.shape[1], activation='tanh')) \n",
    "model.add(Dense(20, activation='tanh'))\n",
    "model.add(Dense(20, activation='tanh'))\n",
    "model.add(Dense(20, activation='tanh'))\n",
    "model.add(Dense(20, activation='tanh'))\n",
    "model.add(Dense(20, activation='tanh'))\n",
    "model.add(Dense(20, activation='tanh'))\n",
    "model.add(Dense(20, activation='tanh'))\n",
    "model.add(Dense(1))\n",
    "\n",
    "model.compile(loss='mean_squared_error', optimizer='adam')\n",
    "\n",
    "monitor = EarlyStopping(monitor='val_loss', min_delta=1e-3, patience=2, verbose=2, mode='auto')  \n",
    "\n",
    "checkpointer = ModelCheckpoint(filepath=\"dnn/best_weights.hdf5\", verbose=0, save_best_only=True) # save best model\n",
    "\n",
    "model.fit(x_train, y_train, validation_data=(x_test,y_test), callbacks=[monitor,checkpointer], verbose=2, epochs=100)\n",
    "\n",
    "model.load_weights('dnn/best_weights.hdf5') # load weights from best model"
   ]
  },
  {
   "cell_type": "code",
   "execution_count": 6,
   "id": "025c9628-ffac-47de-9b02-6e7456295378",
   "metadata": {
    "scrolled": true,
    "tags": []
   },
   "outputs": [
    {
     "name": "stderr",
     "output_type": "stream",
     "text": [
      "2021-09-30 20:15:35.600320: W tensorflow/core/framework/cpu_allocator_impl.cc:80] Allocation of 60000000 exceeds 10% of free system memory.\n"
     ]
    }
   ],
   "source": [
    "pred=model.predict(x_test)"
   ]
  },
  {
   "cell_type": "code",
   "execution_count": 7,
   "id": "60f19cb9-3bf2-479d-8970-91b305bc7707",
   "metadata": {},
   "outputs": [
    {
     "name": "stdout",
     "output_type": "stream",
     "text": [
      "Final RMSE score: 0.981\n"
     ]
    }
   ],
   "source": [
    "score = np.sqrt(metrics.mean_squared_error(pred,y_test))\n",
    "print(\"Final RMSE score: {:.4}\".format(score))"
   ]
  },
  {
   "cell_type": "markdown",
   "id": "56462968-709c-412b-8d64-469d84cafc56",
   "metadata": {},
   "source": [
    "## Plotting regression"
   ]
  },
  {
   "cell_type": "code",
   "execution_count": 8,
   "id": "3f8fc531-554a-42fb-bc54-5bb74a5e0e71",
   "metadata": {},
   "outputs": [],
   "source": [
    "# Regression chart.\n",
    "def chart_regression(pred,y,sort=True):\n",
    "    t = pd.DataFrame({'pred' : pred, 'y' : y.to_numpy()})\n",
    "    if sort:\n",
    "        t.sort_values(by=['y'],inplace=True)\n",
    "    a = plt.plot(t['y'].tolist(),label='expected')\n",
    "    b = plt.plot(t['pred'].tolist(),label='prediction')\n",
    "    plt.ylabel('output')\n",
    "    plt.legend()\n",
    "    plt.show()"
   ]
  },
  {
   "cell_type": "code",
   "execution_count": 9,
   "id": "1fbd2bbb-4212-4bf2-b470-354979ecf934",
   "metadata": {},
   "outputs": [
    {
     "data": {
      "image/png": "[encoded data removed]",
      "text/plain": [
       "<Figure size 432x288 with 1 Axes>"
      ]
     },
     "metadata": {
      "needs_background": "light"
     },
     "output_type": "display_data"
    }
   ],
   "source": [
    "chart_regression(pred.flatten()[:200],y_test[:200],sort=True)"
   ]
  },
  {
   "cell_type": "markdown",
   "id": "18ef4bc5-268d-43e7-95e9-f1eb530a5d49",
   "metadata": {},
   "source": [
    "# Individual Business Predictions"
   ]
  },
  {
   "cell_type": "code",
   "execution_count": 10,
   "id": "d19815ae-6148-4d79-827b-994b5f24be9b",
   "metadata": {
    "tags": []
   },
   "outputs": [],
   "source": [
    "df_unique_ids = df_merged.drop_duplicates(subset=['business_id']).reset_index()"
   ]
  },
  {
   "cell_type": "code",
   "execution_count": 11,
   "id": "f1022d9d-8582-41d6-802e-45cf412b3d4c",
   "metadata": {
    "tags": []
   },
   "outputs": [],
   "source": [
    "def predict_single_business(id_num):\n",
    "    df_single_business = df_merged[df_merged.business_id == id_num]\n",
    "    vectorizer = sk_text.TfidfVectorizer(\n",
    "                                    max_features=600,\n",
    "                                    max_df=2000,\n",
    "                                    min_df=1)\n",
    "    matrix=vectorizer.fit_transform(df_single_business.text)\n",
    "    tfidf_data=matrix.toarray()\n",
    "    if(tfidf_data.shape[1] >= 500):\n",
    "        return df_single_business.name[:1].to_string(index=False)[1:].strip(\"'\").strip('\"'), model.predict(tfidf_data).mean(), df_single_business.stars.mean()"
   ]
  },
  {
   "cell_type": "code",
   "execution_count": 12,
   "id": "142357c0-20e2-45e8-961d-c87a41e1970f",
   "metadata": {},
   "outputs": [],
   "source": [
    "def single_business_compare(numBusinesses):\n",
    "    for i in range(numBusinesses):\n",
    "        index = random.randint(0, df_unique_ids.shape[0])\n",
    "        name, predicted, real = predict_single_business(df_unique_ids.business_id[index])\n",
    "        print(\"{:30}: predicted score: {:3.1f}, real score: {:3.1f}\".format(name, predicted, real))"
   ]
  },
  {
   "cell_type": "code",
   "execution_count": 13,
   "id": "4a511dfa-5f95-45fa-bd70-1d84c0c9d6c1",
   "metadata": {
    "tags": []
   },
   "outputs": [
    {
     "name": "stdout",
     "output_type": "stream",
     "text": [
      "Albasha Hookah Lounge         : predicted score: 3.5, real score: 4.8\n",
      "Spice Market                  : predicted score: 3.4, real score: 2.8\n",
      "The Arlington Restaurant & Diner: predicted score: 3.4, real score: 3.1\n",
      "Bewell                        : predicted score: 3.4, real score: 4.5\n",
      "The Comet Pub & Lanes         : predicted score: 3.7, real score: 2.9\n"
     ]
    }
   ],
   "source": [
    "single_business_compare(5)"
   ]
  },
  {
   "cell_type": "code",
   "execution_count": null,
   "id": "6da9a50a-4348-45c9-b6ae-ca8b64676f43",
   "metadata": {},
   "outputs": [],
   "source": []
  }
 ],
 "metadata": {
  "kernelspec": {
   "display_name": "Python 3 (ipykernel)",
   "language": "python",
   "name": "python3"
  },
  "language_info": {
   "codemirror_mode": {
    "name": "ipython",
    "version": 3
   },
   "file_extension": ".py",
   "mimetype": "text/x-python",
   "name": "python",
   "nbconvert_exporter": "python",
   "pygments_lexer": "ipython3",
   "version": "3.9.7"
  }
 },
 "nbformat": 4,
 "nbformat_minor": 5
}
