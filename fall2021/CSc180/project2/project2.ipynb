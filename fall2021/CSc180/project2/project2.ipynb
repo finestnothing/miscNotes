{
 "cells": [
  {
   "cell_type": "markdown",
   "metadata": {
    "id": "JZpV7BG0iFml",
    "tags": []
   },
   "source": [
    "# CSc 180 Project 2\n",
    "\n",
    "## Alec Resha"
   ]
  },
  {
   "cell_type": "markdown",
   "metadata": {
    "id": "JZpV7BG0iFml",
    "tags": []
   },
   "source": [
    "# Import Statements and Def's"
   ]
  },
  {
   "cell_type": "code",
   "execution_count": 1,
   "metadata": {
    "id": "aAHuwlTJeeSr",
    "tags": []
   },
   "outputs": [],
   "source": [
    "#@title Import Statements\n",
    "\n",
    "import pandas as pd\n",
    "import sklearn as sk\n",
    "from sklearn import preprocessing\n",
    "import tensorflow as tf\n",
    "import numpy as np\n",
    "from collections.abc import Sequence\n",
    "import matplotlib.pyplot as plt\n",
    "import shutil\n",
    "from sklearn.model_selection import train_test_split\n",
    "from tensorflow.keras.models import Sequential\n",
    "from tensorflow.keras.models import load_model\n",
    "from tensorflow.keras.layers import Dense, Activation\n",
    "from tensorflow.keras.callbacks import EarlyStopping\n",
    "from tensorflow.keras.callbacks import ModelCheckpoint\n",
    "from sklearn import metrics\n",
    "from tensorflow.keras.datasets import mnist\n",
    "from tensorflow.keras.layers import Dropout, Flatten\n",
    "from tensorflow.keras.layers import Conv2D, MaxPooling2D\n",
    "import time"
   ]
  },
  {
   "cell_type": "code",
   "execution_count": 2,
   "metadata": {
    "id": "7ZmorNNnlWmH",
    "tags": []
   },
   "outputs": [],
   "source": [
    "#@title Helpful functions\n",
    "# Encode text values to dummy variables(i.e. [1,0,0],[0,1,0],[0,0,1] for red,green,blue)\n",
    "def encode_text_dummy(df, name):\n",
    "    dummies = pd.get_dummies(df[name])\n",
    "    for x in dummies.columns:\n",
    "        dummy_name = \"{}-{}\".format(name, x)\n",
    "        df[dummy_name] = dummies[x]\n",
    "    df.drop(name, axis=1, inplace=True)\n",
    "\n",
    "\n",
    "# Encode text values to a single dummy variable.  The new columns (which do not replace the old) will have a 1\n",
    "# at every location where the original column (name) matches each of the target_values.  One column is added for\n",
    "# each target value.\n",
    "def encode_text_single_dummy(df, name, target_values):\n",
    "    for tv in target_values:\n",
    "        l = list(df[name].astype(str))\n",
    "        l = [1 if str(x) == str(tv) else 0 for x in l]\n",
    "        name2 = \"{}-{}\".format(name, tv)\n",
    "        df[name2] = l\n",
    "\n",
    "\n",
    "# Encode text values to indexes(i.e. [1],[2],[3] for red,green,blue).\n",
    "def encode_text_index(df, name):\n",
    "    le = preprocessing.LabelEncoder()\n",
    "    df[name] = le.fit_transform(df[name])\n",
    "    return le.classes_\n",
    "\n",
    "\n",
    "# Encode a numeric column as zscores\n",
    "def encode_numeric_zscore(df, name, mean=None, sd=None):\n",
    "    if mean is None:\n",
    "        mean = df[name].mean()\n",
    "\n",
    "    if sd is None:\n",
    "        sd = df[name].std()\n",
    "\n",
    "    df[name] = (df[name] - mean) / sd\n",
    "\n",
    "\n",
    "# Convert all missing values in the specified column to the median\n",
    "def missing_median(df, name):\n",
    "    med = df[name].median()\n",
    "    df[name] = df[name].fillna(med)\n",
    "\n",
    "\n",
    "# Convert all missing values in the specified column to the default\n",
    "def missing_default(df, name, default_value):\n",
    "    df[name] = df[name].fillna(default_value)\n",
    "\n",
    "\n",
    "# Convert a Pandas dataframe to the x,y inputs that TensorFlow needs\n",
    "def to_xy(df, target):\n",
    "    result = []\n",
    "    for x in df.columns:\n",
    "        if x != target:\n",
    "            result.append(x)\n",
    "    # find out the type of the target column. \n",
    "    target_type = df[target].dtypes\n",
    "    target_type = target_type[0] if isinstance(target_type, Sequence) else target_type\n",
    "    # Encode to int for classification, float otherwise. TensorFlow likes 32 bits.\n",
    "    if target_type in (np.int64, np.int32):\n",
    "        # Classification\n",
    "        dummies = pd.get_dummies(df[target])\n",
    "        return df[result].values.astype(np.float32), dummies.values.astype(np.float32)\n",
    "    else:\n",
    "        # Regression\n",
    "        return df[result].values.astype(np.float32), df[target].values.astype(np.float32)\n",
    "\n",
    "# Nicely formatted time string\n",
    "def hms_string(sec_elapsed):\n",
    "    h = int(sec_elapsed / (60 * 60))\n",
    "    m = int((sec_elapsed % (60 * 60)) / 60)\n",
    "    s = sec_elapsed % 60\n",
    "    return \"{}:{:>02}:{:>05.2f}\".format(h, m, s)\n",
    "\n",
    "\n",
    "# Regression chart.\n",
    "def chart_regression(pred,y,sort=True):\n",
    "    t = pd.DataFrame({'pred' : pred, 'y' : y.flatten()})\n",
    "    if sort:\n",
    "        t.sort_values(by=['y'],inplace=True)\n",
    "    a = plt.plot(t['y'].tolist(),label='expected')\n",
    "    b = plt.plot(t['pred'].tolist(),label='prediction')\n",
    "    plt.ylabel('output')\n",
    "    plt.legend()\n",
    "    plt.show()\n",
    "\n",
    "# Remove all rows where the specified column is +/- sd standard deviations\n",
    "def remove_outliers(df, name, sd):\n",
    "    drop_rows = df.index[(np.abs(df[name] - df[name].mean()) >= (sd * df[name].std()))]\n",
    "    df.drop(drop_rows, axis=0, inplace=True)\n",
    "\n",
    "\n",
    "# Encode a column to a range between normalized_low and normalized_high.\n",
    "def encode_numeric_range(df, name, normalized_low=-1, normalized_high=1,\n",
    "                         data_low=None, data_high=None):\n",
    "    if data_low is None:\n",
    "        data_low = min(df[name])\n",
    "        data_high = max(df[name])\n",
    "\n",
    "    df[name] = ((df[name] - data_low) / (data_high - data_low)) \\\n",
    "               * (normalized_high - normalized_low) + normalized_low"
   ]
  },
  {
   "cell_type": "markdown",
   "metadata": {
    "id": "tdijX7uUip_G",
    "tags": []
   },
   "source": [
    "# Data PreProcessing"
   ]
  },
  {
   "cell_type": "code",
   "execution_count": 3,
   "metadata": {
    "id": "KLL2rcSTf5Cc"
   },
   "outputs": [],
   "source": [
    "df = pd.read_csv(\"network_intrusion_data.csv\",na_values=['NA', '?'])"
   ]
  },
  {
   "cell_type": "code",
   "execution_count": 4,
   "metadata": {
    "id": "w6TO98mon0ad"
   },
   "outputs": [],
   "source": [
    "#@title Basic Preprocessing\n",
    "\n",
    "# Setting column titles\n",
    "df.columns = [\n",
    "              'duration',\n",
    "              'protocol_type',\n",
    "              'service',\n",
    "              'flag',\n",
    "              'src_bytes',\n",
    "              'dst_bytes',\n",
    "              'land',\n",
    "              'wrong_fragment',\n",
    "              'urgent',\n",
    "              'hot',\n",
    "              'num_failed_logins',\n",
    "              'logged_in',\n",
    "              'num_compromised',\n",
    "              'root_shell',\n",
    "              'su_attempted',\n",
    "              'num_root',\n",
    "              'num_file_creations',\n",
    "              'num_shells',\n",
    "              'num_access_files',\n",
    "              'num_outbound_cmds',\n",
    "              'is_host_login',\n",
    "              'is_guest_login',\n",
    "              'count',\n",
    "              'srv_count',\n",
    "              'serror_rate',\n",
    "              'srv_serror_rate',\n",
    "              'rerror_rate',\n",
    "              'srv_rerror_rate',\n",
    "              'same_srv_rate',\n",
    "              'diff_srv_rate',\n",
    "              'srv_diff_host_rate',\n",
    "              'dst_host_count',\n",
    "              'dst_host_srv_count',\n",
    "              'dst_host_same_srv_rate',\n",
    "              'dst_host_diff_srv_rate',\n",
    "              'dst_host_same_src_port_rate',\n",
    "              'dst_host_srv_diff_host_rate',\n",
    "              'dst_host_serror_rate',\n",
    "              'dst_host_srv_serror_rate',\n",
    "              'dst_host_rerror_rate',\n",
    "              'dst_host_srv_rerror_rate',\n",
    "              'outcome'\n",
    "              ]\n",
    "\n",
    "# Remove redundant records\n",
    "df.drop_duplicates(inplace=True)\n",
    "\n",
    "# Drop any rows that are missing values\n",
    "df.dropna(axis='index', how='any',inplace=True)"
   ]
  },
  {
   "cell_type": "code",
   "execution_count": 5,
   "metadata": {
    "id": "ofZfUX2b73jT"
   },
   "outputs": [],
   "source": [
    "#@title Encoding and Normalizing data\n",
    "\n",
    "# Normalize number columns, drop NaN columns\n",
    "df_num = df.select_dtypes(include=[np.number])\n",
    "df_norm = (df_num - df_num.mean()) / (df_num.max() - df_num.min())\n",
    "df[df_norm.columns] = df_norm\n",
    "df.dropna(axis='columns',how='all',inplace=True)\n",
    "\n",
    "# Encode all string columns\n",
    "attacks = encode_text_index(df,'outcome')\n",
    "protocol_types = encode_text_index(df,'protocol_type')\n",
    "services = encode_text_index(df,'service')\n",
    "flags = encode_text_index(df,'flag')\n",
    "\n",
    "# Replace outcome with 0 or 1. 11 is index of 'normal.'\n",
    "df[\"outcome\"] = (df[['outcome']]==11).astype(int)"
   ]
  },
  {
   "cell_type": "code",
   "execution_count": 6,
   "metadata": {
    "id": "xcS1tGSyyh8Y"
   },
   "outputs": [],
   "source": [
    "#@title Split up data\n",
    "\n",
    "x,y = to_xy(df,'outcome')\n",
    "x_train, x_test, y_train, y_test = train_test_split(x,y,test_size=0.25, random_state=32)"
   ]
  },
  {
   "cell_type": "code",
   "execution_count": 7,
   "metadata": {
    "id": "B-Hh78jjRM1e"
   },
   "outputs": [],
   "source": [
    "# For CNN\n",
    "x2 = x.reshape(x.shape[0], 1, x.shape[1], 1)\n",
    "y2 = y\n",
    "x_train2, x_test2, y_train2, y_test2 = train_test_split(x2,y2,test_size=0.25, random_state=32)"
   ]
  },
  {
   "cell_type": "markdown",
   "metadata": {
    "id": "NTGGyYJtSnwc",
    "tags": []
   },
   "source": [
    "# Fully Connected Neural Networks"
   ]
  },
  {
   "cell_type": "markdown",
   "metadata": {
    "id": "Gcc57-QjlBg3",
    "tags": []
   },
   "source": [
    "## Fully Connected Network 1"
   ]
  },
  {
   "cell_type": "markdown",
   "metadata": {
    "id": "Vqu7TXe4Gjrj",
    "jp-MarkdownHeadingCollapsed": true,
    "tags": []
   },
   "source": [
    "### Running Model"
   ]
  },
  {
   "cell_type": "code",
   "execution_count": 8,
   "metadata": {
    "colab": {
     "base_uri": "https://localhost:8080/"
    },
    "id": "21thN6Bv6GQg",
    "outputId": "33c13ab4-2e8f-4517-8cc3-96f84c6be88e"
   },
   "outputs": [
    {
     "name": "stdout",
     "output_type": "stream",
     "text": [
      "Epoch 1/100\n",
      "3413/3413 - 3s - loss: 0.0704 - val_loss: 0.0546\n",
      "Epoch 2/100\n",
      "3413/3413 - 2s - loss: 0.0362 - val_loss: 0.0316\n",
      "Epoch 3/100\n",
      "3413/3413 - 2s - loss: 0.0289 - val_loss: 0.0373\n",
      "Epoch 4/100\n",
      "3413/3413 - 2s - loss: 0.0224 - val_loss: 0.0164\n",
      "Epoch 5/100\n",
      "3413/3413 - 2s - loss: 0.0169 - val_loss: 0.0342\n",
      "Epoch 6/100\n",
      "3413/3413 - 2s - loss: 0.0144 - val_loss: 0.0216\n",
      "Epoch 00006: early stopping\n"
     ]
    },
    {
     "data": {
      "text/plain": [
       "<keras.callbacks.History at 0x208aaa96b80>"
      ]
     },
     "execution_count": 8,
     "metadata": {},
     "output_type": "execute_result"
    }
   ],
   "source": [
    "#@title Create and Train Model\n",
    "model = Sequential()\n",
    "\n",
    "model.add(Dense(50, input_dim = x_train.shape[1], activation='relu'))\n",
    "model.add(Dense(25, activation='relu'))\n",
    "model.add(Dense(10, activation='relu'))\n",
    "model.add(Dense(y_train.shape[1], activation='softmax'))\n",
    "\n",
    "model.compile(loss='categorical_crossentropy', optimizer='adam')\n",
    "\n",
    "monitor = EarlyStopping(monitor='val_loss', min_delta=1e-3, patience=2, verbose=2, mode='auto')  \n",
    "\n",
    "checkpointer = ModelCheckpoint(filepath=\"fcn/best_weights1.hdf5\", verbose=0, save_best_only=True) # save best model\n",
    "\n",
    "model.fit(x_train, y_train, validation_data=(x_test,y_test), callbacks=[monitor,checkpointer], verbose=2, epochs=100)"
   ]
  },
  {
   "cell_type": "markdown",
   "metadata": {
    "id": "v5gqsCJ4MWNZ",
    "tags": []
   },
   "source": [
    "### Predict Model"
   ]
  },
  {
   "cell_type": "code",
   "execution_count": 9,
   "metadata": {
    "id": "qWj8ci9y1mBy"
   },
   "outputs": [],
   "source": [
    "#@title Load best weights\n",
    "model.load_weights('fcn/best_weights1.hdf5') # load weights from best model"
   ]
  },
  {
   "cell_type": "code",
   "execution_count": 10,
   "metadata": {
    "colab": {
     "base_uri": "https://localhost:8080/"
    },
    "id": "nueIbMB253EK",
    "outputId": "10814223-1655-47a7-83f6-e668e30e955a"
   },
   "outputs": [
    {
     "name": "stdout",
     "output_type": "stream",
     "text": [
      "Final RMSE score: 0.06235\n"
     ]
    }
   ],
   "source": [
    "#@title Predict and RMSE Score\n",
    "pred=model.predict(x_test)\n",
    "score = np.sqrt(metrics.mean_squared_error(pred,y_test))\n",
    "print(\"Final RMSE score: {:.4}\".format(score))"
   ]
  },
  {
   "cell_type": "code",
   "execution_count": 11,
   "metadata": {
    "colab": {
     "base_uri": "https://localhost:8080/"
    },
    "id": "LwVfy7Y1YOO-",
    "outputId": "b0232ba2-d9d0-43d8-80dd-cfbd2def9072"
   },
   "outputs": [
    {
     "name": "stdout",
     "output_type": "stream",
     "text": [
      "Accuracy: 0.9956040332994478\n",
      "Averaged F1: 0.9956058050707804\n",
      "              precision    recall  f1-score   support\n",
      "\n",
      "           0       0.99      1.00      0.99     14406\n",
      "           1       1.00      0.99      1.00     21991\n",
      "\n",
      "    accuracy                           1.00     36397\n",
      "   macro avg       1.00      1.00      1.00     36397\n",
      "weighted avg       1.00      1.00      1.00     36397\n",
      "\n"
     ]
    }
   ],
   "source": [
    "y_true = np.argmax(y_test,axis=1)\n",
    "pred = model.predict(x_test)\n",
    "pred = np.argmax(pred,axis=1)\n",
    "\n",
    "score = metrics.accuracy_score(y_true, pred)\n",
    "print('Accuracy: {}'.format(score))\n",
    "\n",
    "f1 = metrics.f1_score(y_true, pred, average='weighted')\n",
    "print('Averaged F1: {}'.format(f1))\n",
    "\n",
    "print(metrics.classification_report(y_true, pred))"
   ]
  },
  {
   "cell_type": "markdown",
   "metadata": {
    "colab": {
     "base_uri": "https://localhost:8080/"
    },
    "id": "LwVfy7Y1YOO-",
    "outputId": "b0232ba2-d9d0-43d8-80dd-cfbd2def9072",
    "tags": []
   },
   "source": [
    "### Confusion Matrix"
   ]
  },
  {
   "cell_type": "code",
   "execution_count": 12,
   "metadata": {
    "colab": {
     "base_uri": "https://localhost:8080/"
    },
    "id": "LwVfy7Y1YOO-",
    "outputId": "b0232ba2-d9d0-43d8-80dd-cfbd2def9072"
   },
   "outputs": [
    {
     "name": "stdout",
     "output_type": "stream",
     "text": [
      "[[0.51 0.49]\n",
      " [1.   0.  ]]\n"
     ]
    }
   ],
   "source": [
    "pred=model.predict(x_test)\n",
    "con_mat = tf.math.confusion_matrix(labels=y_test, predictions=pred).numpy()\n",
    "\n",
    "print(np.around(con_mat.astype('float') / con_mat.sum(axis=1)[:, np.newaxis], decimals=2))"
   ]
  },
  {
   "cell_type": "markdown",
   "metadata": {
    "id": "Gcc57-QjlBg3",
    "tags": []
   },
   "source": [
    "## Fully Connected Network 2"
   ]
  },
  {
   "cell_type": "markdown",
   "metadata": {
    "id": "Vqu7TXe4Gjrj",
    "tags": []
   },
   "source": [
    "### Running Model"
   ]
  },
  {
   "cell_type": "code",
   "execution_count": 13,
   "metadata": {
    "colab": {
     "base_uri": "https://localhost:8080/"
    },
    "id": "21thN6Bv6GQg",
    "outputId": "33c13ab4-2e8f-4517-8cc3-96f84c6be88e"
   },
   "outputs": [
    {
     "name": "stdout",
     "output_type": "stream",
     "text": [
      "Epoch 1/100\n",
      "3413/3413 - 2s - loss: 0.0830 - val_loss: 0.0491\n",
      "Epoch 2/100\n",
      "3413/3413 - 2s - loss: 0.0372 - val_loss: 0.0260\n",
      "Epoch 3/100\n",
      "3413/3413 - 2s - loss: 0.0301 - val_loss: 0.0264\n",
      "Epoch 4/100\n",
      "3413/3413 - 2s - loss: 0.0268 - val_loss: 0.0275\n",
      "Epoch 00004: early stopping\n"
     ]
    },
    {
     "data": {
      "text/plain": [
       "<keras.callbacks.History at 0x209826da7c0>"
      ]
     },
     "execution_count": 13,
     "metadata": {},
     "output_type": "execute_result"
    }
   ],
   "source": [
    "#@title Create and Train Model\n",
    "model = Sequential()\n",
    "\n",
    "model.add(Dense(25, input_dim = x_train.shape[1], activation='relu'))\n",
    "model.add(Dense(25, activation='relu'))\n",
    "model.add(Dense(25, activation='relu'))\n",
    "model.add(Dense(y_train.shape[1], activation='softmax'))\n",
    "\n",
    "model.compile(loss='categorical_crossentropy', optimizer='adam')\n",
    "\n",
    "monitor = EarlyStopping(monitor='val_loss', min_delta=1e-3, patience=2, verbose=2, mode='auto')  \n",
    "\n",
    "checkpointer = ModelCheckpoint(filepath=\"fcn/best_weights2.hdf5\", verbose=0, save_best_only=True) # save best model\n",
    "\n",
    "model.fit(x_train, y_train, validation_data=(x_test,y_test), callbacks=[monitor,checkpointer], verbose=2, epochs=100)"
   ]
  },
  {
   "cell_type": "markdown",
   "metadata": {
    "id": "v5gqsCJ4MWNZ",
    "jp-MarkdownHeadingCollapsed": true,
    "tags": []
   },
   "source": [
    "### Predict Model"
   ]
  },
  {
   "cell_type": "code",
   "execution_count": 14,
   "metadata": {
    "id": "qWj8ci9y1mBy"
   },
   "outputs": [],
   "source": [
    "#@title Load best weights\n",
    "model.load_weights('fcn/best_weights2.hdf5') # load weights from best model"
   ]
  },
  {
   "cell_type": "code",
   "execution_count": 15,
   "metadata": {
    "colab": {
     "base_uri": "https://localhost:8080/"
    },
    "id": "nueIbMB253EK",
    "outputId": "10814223-1655-47a7-83f6-e668e30e955a"
   },
   "outputs": [
    {
     "name": "stdout",
     "output_type": "stream",
     "text": [
      "Final RMSE score: 0.08135\n"
     ]
    }
   ],
   "source": [
    "#@title Predict and RMSE Score\n",
    "pred=model.predict(x_test)\n",
    "score = np.sqrt(metrics.mean_squared_error(pred,y_test))\n",
    "print(\"Final RMSE score: {:.4}\".format(score))"
   ]
  },
  {
   "cell_type": "code",
   "execution_count": 16,
   "metadata": {
    "colab": {
     "base_uri": "https://localhost:8080/"
    },
    "id": "LwVfy7Y1YOO-",
    "outputId": "b0232ba2-d9d0-43d8-80dd-cfbd2def9072"
   },
   "outputs": [
    {
     "name": "stdout",
     "output_type": "stream",
     "text": [
      "Accuracy: 0.9913454405582878\n",
      "Averaged F1: 0.9913382034304721\n",
      "              precision    recall  f1-score   support\n",
      "\n",
      "           0       0.99      0.98      0.99     14406\n",
      "           1       0.99      1.00      0.99     21991\n",
      "\n",
      "    accuracy                           0.99     36397\n",
      "   macro avg       0.99      0.99      0.99     36397\n",
      "weighted avg       0.99      0.99      0.99     36397\n",
      "\n"
     ]
    }
   ],
   "source": [
    "y_true = np.argmax(y_test,axis=1)\n",
    "pred = model.predict(x_test)\n",
    "pred = np.argmax(pred,axis=1)\n",
    "\n",
    "score = metrics.accuracy_score(y_true, pred)\n",
    "print('Accuracy: {}'.format(score))\n",
    "\n",
    "f1 = metrics.f1_score(y_true, pred, average='weighted')\n",
    "print('Averaged F1: {}'.format(f1))\n",
    "\n",
    "print(metrics.classification_report(y_true, pred))"
   ]
  },
  {
   "cell_type": "markdown",
   "metadata": {
    "colab": {
     "base_uri": "https://localhost:8080/"
    },
    "id": "LwVfy7Y1YOO-",
    "outputId": "b0232ba2-d9d0-43d8-80dd-cfbd2def9072",
    "tags": []
   },
   "source": [
    "### Confusion Matrix"
   ]
  },
  {
   "cell_type": "code",
   "execution_count": 17,
   "metadata": {
    "colab": {
     "base_uri": "https://localhost:8080/"
    },
    "id": "LwVfy7Y1YOO-",
    "outputId": "b0232ba2-d9d0-43d8-80dd-cfbd2def9072"
   },
   "outputs": [
    {
     "name": "stdout",
     "output_type": "stream",
     "text": [
      "[[0.52 0.48]\n",
      " [1.   0.  ]]\n"
     ]
    }
   ],
   "source": [
    "pred=model.predict(x_test)\n",
    "con_mat = tf.math.confusion_matrix(labels=y_test, predictions=pred).numpy()\n",
    "\n",
    "print(np.around(con_mat.astype('float') / con_mat.sum(axis=1)[:, np.newaxis], decimals=2))"
   ]
  },
  {
   "cell_type": "markdown",
   "metadata": {
    "id": "Gcc57-QjlBg3",
    "tags": []
   },
   "source": [
    "## Fully Connected Network 3"
   ]
  },
  {
   "cell_type": "markdown",
   "metadata": {
    "id": "Vqu7TXe4Gjrj",
    "jp-MarkdownHeadingCollapsed": true,
    "tags": []
   },
   "source": [
    "### Running Model"
   ]
  },
  {
   "cell_type": "code",
   "execution_count": 18,
   "metadata": {
    "colab": {
     "base_uri": "https://localhost:8080/"
    },
    "id": "21thN6Bv6GQg",
    "outputId": "33c13ab4-2e8f-4517-8cc3-96f84c6be88e"
   },
   "outputs": [
    {
     "name": "stdout",
     "output_type": "stream",
     "text": [
      "Epoch 1/100\n",
      "3413/3413 - 3s - loss: 0.0598 - val_loss: 0.0329\n",
      "Epoch 2/100\n",
      "3413/3413 - 2s - loss: 0.0314 - val_loss: 0.0211\n",
      "Epoch 3/100\n",
      "3413/3413 - 2s - loss: 0.0240 - val_loss: 0.0203\n",
      "Epoch 4/100\n",
      "3413/3413 - 2s - loss: 0.0177 - val_loss: 0.0124\n",
      "Epoch 5/100\n",
      "3413/3413 - 2s - loss: 0.0160 - val_loss: 0.0199\n",
      "Epoch 6/100\n",
      "3413/3413 - 2s - loss: 0.0137 - val_loss: 0.0127\n",
      "Epoch 00006: early stopping\n"
     ]
    },
    {
     "data": {
      "text/plain": [
       "<keras.callbacks.History at 0x2099183e430>"
      ]
     },
     "execution_count": 18,
     "metadata": {},
     "output_type": "execute_result"
    }
   ],
   "source": [
    "#@title Create and Train Model\n",
    "model = Sequential()\n",
    "\n",
    "model.add(Dense(50, input_dim = x_train.shape[1], activation='relu'))\n",
    "model.add(Dense(25, activation='relu'))\n",
    "model.add(Dense(25, activation='relu'))\n",
    "model.add(Dense(25, activation='relu'))\n",
    "model.add(Dense(25, activation='relu'))\n",
    "model.add(Dense(y_train.shape[1], activation='softmax'))\n",
    "\n",
    "model.compile(loss='categorical_crossentropy', optimizer='adam')\n",
    "\n",
    "monitor = EarlyStopping(monitor='val_loss', min_delta=1e-3, patience=2, verbose=2, mode='auto')  \n",
    "\n",
    "checkpointer = ModelCheckpoint(filepath=\"fcn/best_weights3.hdf5\", verbose=0, save_best_only=True) # save best model\n",
    "\n",
    "model.fit(x_train, y_train, validation_data=(x_test,y_test), callbacks=[monitor,checkpointer], verbose=2, epochs=100)"
   ]
  },
  {
   "cell_type": "markdown",
   "metadata": {
    "id": "v5gqsCJ4MWNZ",
    "jp-MarkdownHeadingCollapsed": true,
    "tags": []
   },
   "source": [
    "### Predict Model"
   ]
  },
  {
   "cell_type": "code",
   "execution_count": 19,
   "metadata": {
    "id": "qWj8ci9y1mBy"
   },
   "outputs": [],
   "source": [
    "#@title Load best weights\n",
    "model.load_weights('fcn/best_weights3.hdf5') # load weights from best model"
   ]
  },
  {
   "cell_type": "code",
   "execution_count": 20,
   "metadata": {
    "colab": {
     "base_uri": "https://localhost:8080/"
    },
    "id": "nueIbMB253EK",
    "outputId": "10814223-1655-47a7-83f6-e668e30e955a"
   },
   "outputs": [
    {
     "name": "stdout",
     "output_type": "stream",
     "text": [
      "Final RMSE score: 0.05447\n"
     ]
    }
   ],
   "source": [
    "#@title Predict and RMSE Score\n",
    "pred=model.predict(x_test)\n",
    "score = np.sqrt(metrics.mean_squared_error(pred,y_test))\n",
    "print(\"Final RMSE score: {:.4}\".format(score))"
   ]
  },
  {
   "cell_type": "code",
   "execution_count": 21,
   "metadata": {
    "colab": {
     "base_uri": "https://localhost:8080/"
    },
    "id": "LwVfy7Y1YOO-",
    "outputId": "b0232ba2-d9d0-43d8-80dd-cfbd2def9072"
   },
   "outputs": [
    {
     "name": "stdout",
     "output_type": "stream",
     "text": [
      "Accuracy: 0.9964282770558013\n",
      "Averaged F1: 0.9964284905372138\n",
      "              precision    recall  f1-score   support\n",
      "\n",
      "           0       1.00      1.00      1.00     14406\n",
      "           1       1.00      1.00      1.00     21991\n",
      "\n",
      "    accuracy                           1.00     36397\n",
      "   macro avg       1.00      1.00      1.00     36397\n",
      "weighted avg       1.00      1.00      1.00     36397\n",
      "\n"
     ]
    }
   ],
   "source": [
    "y_true = np.argmax(y_test,axis=1)\n",
    "pred = model.predict(x_test)\n",
    "pred = np.argmax(pred,axis=1)\n",
    "\n",
    "score = metrics.accuracy_score(y_true, pred)\n",
    "print('Accuracy: {}'.format(score))\n",
    "\n",
    "f1 = metrics.f1_score(y_true, pred, average='weighted')\n",
    "print('Averaged F1: {}'.format(f1))\n",
    "\n",
    "print(metrics.classification_report(y_true, pred))"
   ]
  },
  {
   "cell_type": "markdown",
   "metadata": {
    "colab": {
     "base_uri": "https://localhost:8080/"
    },
    "id": "LwVfy7Y1YOO-",
    "outputId": "b0232ba2-d9d0-43d8-80dd-cfbd2def9072",
    "tags": []
   },
   "source": [
    "### Confusion Matrix"
   ]
  },
  {
   "cell_type": "code",
   "execution_count": 22,
   "metadata": {
    "colab": {
     "base_uri": "https://localhost:8080/"
    },
    "id": "LwVfy7Y1YOO-",
    "outputId": "b0232ba2-d9d0-43d8-80dd-cfbd2def9072"
   },
   "outputs": [
    {
     "name": "stdout",
     "output_type": "stream",
     "text": [
      "[[0.55 0.45]\n",
      " [1.   0.  ]]\n"
     ]
    }
   ],
   "source": [
    "pred=model.predict(x_test)\n",
    "con_mat = tf.math.confusion_matrix(labels=y_test, predictions=pred).numpy()\n",
    "\n",
    "print(np.around(con_mat.astype('float') / con_mat.sum(axis=1)[:, np.newaxis], decimals=2))"
   ]
  },
  {
   "cell_type": "markdown",
   "metadata": {
    "id": "Gcc57-QjlBg3",
    "tags": []
   },
   "source": [
    "## Fully Connected Network 4"
   ]
  },
  {
   "cell_type": "markdown",
   "metadata": {
    "id": "Vqu7TXe4Gjrj",
    "tags": []
   },
   "source": [
    "### Running Model"
   ]
  },
  {
   "cell_type": "code",
   "execution_count": 23,
   "metadata": {
    "colab": {
     "base_uri": "https://localhost:8080/"
    },
    "id": "21thN6Bv6GQg",
    "outputId": "33c13ab4-2e8f-4517-8cc3-96f84c6be88e"
   },
   "outputs": [
    {
     "name": "stdout",
     "output_type": "stream",
     "text": [
      "Epoch 1/100\n",
      "3413/3413 - 2s - loss: 0.0941 - val_loss: 0.0514\n",
      "Epoch 2/100\n",
      "3413/3413 - 2s - loss: 0.0432 - val_loss: 0.0371\n",
      "Epoch 3/100\n",
      "3413/3413 - 2s - loss: 0.0343 - val_loss: 0.0261\n",
      "Epoch 4/100\n",
      "3413/3413 - 2s - loss: 0.0293 - val_loss: 0.0265\n",
      "Epoch 5/100\n",
      "3413/3413 - 2s - loss: 0.0250 - val_loss: 0.0230\n",
      "Epoch 6/100\n",
      "3413/3413 - 2s - loss: 0.0218 - val_loss: 0.0176\n",
      "Epoch 7/100\n",
      "3413/3413 - 2s - loss: 0.0188 - val_loss: 0.0216\n",
      "Epoch 8/100\n",
      "3413/3413 - 2s - loss: 0.0166 - val_loss: 0.0143\n",
      "Epoch 9/100\n",
      "3413/3413 - 2s - loss: 0.0152 - val_loss: 0.0115\n",
      "Epoch 10/100\n",
      "3413/3413 - 2s - loss: 0.0134 - val_loss: 0.0106\n",
      "Epoch 11/100\n",
      "3413/3413 - 2s - loss: 0.0129 - val_loss: 0.0201\n",
      "Epoch 00011: early stopping\n"
     ]
    },
    {
     "data": {
      "text/plain": [
       "<keras.callbacks.History at 0x20995c494c0>"
      ]
     },
     "execution_count": 23,
     "metadata": {},
     "output_type": "execute_result"
    }
   ],
   "source": [
    "#@title Create and Train Model\n",
    "model = Sequential()\n",
    "\n",
    "model.add(Dense(50, input_dim = x_train.shape[1], activation='sigmoid'))\n",
    "model.add(Dense(25, activation='sigmoid'))\n",
    "model.add(Dense(10, activation='sigmoid'))\n",
    "model.add(Dense(y_train.shape[1], activation='softmax'))\n",
    "\n",
    "model.compile(loss='categorical_crossentropy', optimizer='adam')\n",
    "\n",
    "monitor = EarlyStopping(monitor='val_loss', min_delta=1e-3, patience=2, verbose=2, mode='auto')  \n",
    "\n",
    "checkpointer = ModelCheckpoint(filepath=\"fcn/best_weights4.hdf5\", verbose=0, save_best_only=True) # save best model\n",
    "\n",
    "model.fit(x_train, y_train, validation_data=(x_test,y_test), callbacks=[monitor,checkpointer], verbose=2, epochs=100)"
   ]
  },
  {
   "cell_type": "markdown",
   "metadata": {
    "id": "v5gqsCJ4MWNZ",
    "jp-MarkdownHeadingCollapsed": true,
    "tags": []
   },
   "source": [
    "### Predict Model"
   ]
  },
  {
   "cell_type": "code",
   "execution_count": 24,
   "metadata": {
    "id": "qWj8ci9y1mBy"
   },
   "outputs": [],
   "source": [
    "#@title Load best weights\n",
    "model.load_weights('fcn/best_weights4.hdf5') # load weights from best model"
   ]
  },
  {
   "cell_type": "code",
   "execution_count": 25,
   "metadata": {
    "colab": {
     "base_uri": "https://localhost:8080/"
    },
    "id": "nueIbMB253EK",
    "outputId": "10814223-1655-47a7-83f6-e668e30e955a"
   },
   "outputs": [
    {
     "name": "stdout",
     "output_type": "stream",
     "text": [
      "Final RMSE score: 0.0496\n"
     ]
    }
   ],
   "source": [
    "#@title Predict and RMSE Score\n",
    "pred=model.predict(x_test)\n",
    "score = np.sqrt(metrics.mean_squared_error(pred,y_test))\n",
    "print(\"Final RMSE score: {:.4}\".format(score))"
   ]
  },
  {
   "cell_type": "code",
   "execution_count": 26,
   "metadata": {
    "colab": {
     "base_uri": "https://localhost:8080/"
    },
    "id": "LwVfy7Y1YOO-",
    "outputId": "b0232ba2-d9d0-43d8-80dd-cfbd2def9072"
   },
   "outputs": [
    {
     "name": "stdout",
     "output_type": "stream",
     "text": [
      "Accuracy: 0.996840398933978\n",
      "Averaged F1: 0.9968406820034982\n",
      "              precision    recall  f1-score   support\n",
      "\n",
      "           0       1.00      1.00      1.00     14406\n",
      "           1       1.00      1.00      1.00     21991\n",
      "\n",
      "    accuracy                           1.00     36397\n",
      "   macro avg       1.00      1.00      1.00     36397\n",
      "weighted avg       1.00      1.00      1.00     36397\n",
      "\n"
     ]
    }
   ],
   "source": [
    "y_true = np.argmax(y_test,axis=1)\n",
    "pred = model.predict(x_test)\n",
    "pred = np.argmax(pred,axis=1)\n",
    "\n",
    "score = metrics.accuracy_score(y_true, pred)\n",
    "print('Accuracy: {}'.format(score))\n",
    "\n",
    "f1 = metrics.f1_score(y_true, pred, average='weighted')\n",
    "print('Averaged F1: {}'.format(f1))\n",
    "\n",
    "print(metrics.classification_report(y_true, pred))"
   ]
  },
  {
   "cell_type": "markdown",
   "metadata": {
    "colab": {
     "base_uri": "https://localhost:8080/"
    },
    "id": "LwVfy7Y1YOO-",
    "outputId": "b0232ba2-d9d0-43d8-80dd-cfbd2def9072",
    "tags": []
   },
   "source": [
    "### Confusion Matrix"
   ]
  },
  {
   "cell_type": "code",
   "execution_count": 27,
   "metadata": {
    "colab": {
     "base_uri": "https://localhost:8080/"
    },
    "id": "LwVfy7Y1YOO-",
    "outputId": "b0232ba2-d9d0-43d8-80dd-cfbd2def9072"
   },
   "outputs": [
    {
     "name": "stdout",
     "output_type": "stream",
     "text": [
      "[[0.62 0.38]\n",
      " [1.   0.  ]]\n"
     ]
    }
   ],
   "source": [
    "pred=model.predict(x_test)\n",
    "con_mat = tf.math.confusion_matrix(labels=y_test, predictions=pred).numpy()\n",
    "\n",
    "print(np.around(con_mat.astype('float') / con_mat.sum(axis=1)[:, np.newaxis], decimals=2))"
   ]
  },
  {
   "cell_type": "markdown",
   "metadata": {
    "id": "Gcc57-QjlBg3",
    "tags": []
   },
   "source": [
    "## Fully Connected Network 5"
   ]
  },
  {
   "cell_type": "markdown",
   "metadata": {
    "id": "Vqu7TXe4Gjrj",
    "tags": []
   },
   "source": [
    "### Running Model"
   ]
  },
  {
   "cell_type": "code",
   "execution_count": 28,
   "metadata": {
    "colab": {
     "base_uri": "https://localhost:8080/"
    },
    "id": "21thN6Bv6GQg",
    "outputId": "33c13ab4-2e8f-4517-8cc3-96f84c6be88e"
   },
   "outputs": [
    {
     "name": "stdout",
     "output_type": "stream",
     "text": [
      "Epoch 1/100\n",
      "3413/3413 - 2s - loss: 0.1509 - val_loss: 0.0902\n",
      "Epoch 2/100\n",
      "3413/3413 - 2s - loss: 0.0994 - val_loss: 0.0764\n",
      "Epoch 3/100\n",
      "3413/3413 - 2s - loss: 0.0840 - val_loss: 0.0636\n",
      "Epoch 4/100\n",
      "3413/3413 - 2s - loss: 0.0756 - val_loss: 0.0650\n",
      "Epoch 5/100\n",
      "3413/3413 - 2s - loss: 0.0681 - val_loss: 0.0527\n",
      "Epoch 6/100\n",
      "3413/3413 - 2s - loss: 0.0651 - val_loss: 0.0596\n",
      "Epoch 7/100\n",
      "3413/3413 - 2s - loss: 0.0658 - val_loss: 0.0478\n",
      "Epoch 8/100\n",
      "3413/3413 - 2s - loss: 0.0596 - val_loss: 2.2373\n",
      "Epoch 9/100\n",
      "3413/3413 - 2s - loss: 0.0593 - val_loss: 0.0574\n",
      "Epoch 00009: early stopping\n"
     ]
    },
    {
     "data": {
      "text/plain": [
       "<keras.callbacks.History at 0x20995dd56a0>"
      ]
     },
     "execution_count": 28,
     "metadata": {},
     "output_type": "execute_result"
    }
   ],
   "source": [
    "#@title Create and Train Model\n",
    "model = Sequential()\n",
    "\n",
    "model.add(Dense(50, input_dim = x_train.shape[1], activation='relu'))\n",
    "model.add(Dense(25, activation='relu'))\n",
    "model.add(Dense(10, activation='relu'))\n",
    "model.add(Dense(y_train.shape[1], activation='softmax'))\n",
    "\n",
    "model.compile(loss='categorical_crossentropy', optimizer='sgd')\n",
    "\n",
    "monitor = EarlyStopping(monitor='val_loss', min_delta=1e-3, patience=2, verbose=2, mode='auto')  \n",
    "\n",
    "checkpointer = ModelCheckpoint(filepath=\"fcn/best_weights5.hdf5\", verbose=0, save_best_only=True) # save best model\n",
    "\n",
    "model.fit(x_train, y_train, validation_data=(x_test,y_test), callbacks=[monitor,checkpointer], verbose=2, epochs=100)"
   ]
  },
  {
   "cell_type": "markdown",
   "metadata": {
    "id": "v5gqsCJ4MWNZ",
    "jp-MarkdownHeadingCollapsed": true,
    "tags": []
   },
   "source": [
    "### Predict Model"
   ]
  },
  {
   "cell_type": "code",
   "execution_count": 29,
   "metadata": {
    "id": "qWj8ci9y1mBy"
   },
   "outputs": [],
   "source": [
    "#@title Load best weights\n",
    "model.load_weights('fcn/best_weights5.hdf5') # load weights from best model"
   ]
  },
  {
   "cell_type": "code",
   "execution_count": 30,
   "metadata": {
    "colab": {
     "base_uri": "https://localhost:8080/"
    },
    "id": "nueIbMB253EK",
    "outputId": "10814223-1655-47a7-83f6-e668e30e955a"
   },
   "outputs": [
    {
     "name": "stdout",
     "output_type": "stream",
     "text": [
      "Final RMSE score: 0.1094\n"
     ]
    }
   ],
   "source": [
    "#@title Predict and RMSE Score\n",
    "pred=model.predict(x_test)\n",
    "score = np.sqrt(metrics.mean_squared_error(pred,y_test))\n",
    "print(\"Final RMSE score: {:.4}\".format(score))"
   ]
  },
  {
   "cell_type": "code",
   "execution_count": 31,
   "metadata": {
    "colab": {
     "base_uri": "https://localhost:8080/"
    },
    "id": "LwVfy7Y1YOO-",
    "outputId": "b0232ba2-d9d0-43d8-80dd-cfbd2def9072"
   },
   "outputs": [
    {
     "name": "stdout",
     "output_type": "stream",
     "text": [
      "Accuracy: 0.9852460367612715\n",
      "Averaged F1: 0.9852146309451715\n",
      "              precision    recall  f1-score   support\n",
      "\n",
      "           0       0.99      0.97      0.98     14406\n",
      "           1       0.98      1.00      0.99     21991\n",
      "\n",
      "    accuracy                           0.99     36397\n",
      "   macro avg       0.99      0.98      0.98     36397\n",
      "weighted avg       0.99      0.99      0.99     36397\n",
      "\n"
     ]
    }
   ],
   "source": [
    "y_true = np.argmax(y_test,axis=1)\n",
    "pred = model.predict(x_test)\n",
    "pred = np.argmax(pred,axis=1)\n",
    "\n",
    "score = metrics.accuracy_score(y_true, pred)\n",
    "print('Accuracy: {}'.format(score))\n",
    "\n",
    "f1 = metrics.f1_score(y_true, pred, average='weighted')\n",
    "print('Averaged F1: {}'.format(f1))\n",
    "\n",
    "print(metrics.classification_report(y_true, pred))"
   ]
  },
  {
   "cell_type": "markdown",
   "metadata": {
    "colab": {
     "base_uri": "https://localhost:8080/"
    },
    "id": "LwVfy7Y1YOO-",
    "outputId": "b0232ba2-d9d0-43d8-80dd-cfbd2def9072",
    "tags": []
   },
   "source": [
    "### Confusion Matrix"
   ]
  },
  {
   "cell_type": "code",
   "execution_count": 32,
   "metadata": {
    "colab": {
     "base_uri": "https://localhost:8080/"
    },
    "id": "LwVfy7Y1YOO-",
    "outputId": "b0232ba2-d9d0-43d8-80dd-cfbd2def9072"
   },
   "outputs": [
    {
     "name": "stdout",
     "output_type": "stream",
     "text": [
      "[[0.62 0.38]\n",
      " [1.   0.  ]]\n"
     ]
    }
   ],
   "source": [
    "pred=model.predict(x_test)\n",
    "con_mat = tf.math.confusion_matrix(labels=y_test, predictions=pred).numpy()\n",
    "\n",
    "print(np.around(con_mat.astype('float') / con_mat.sum(axis=1)[:, np.newaxis], decimals=2))"
   ]
  },
  {
   "cell_type": "markdown",
   "metadata": {
    "id": "HntEp1J7Pn1n",
    "tags": []
   },
   "source": [
    "# Convolutional Neural Network"
   ]
  },
  {
   "cell_type": "markdown",
   "metadata": {
    "id": "AlotFfbGUaoX",
    "tags": []
   },
   "source": [
    "## CNN 1"
   ]
  },
  {
   "cell_type": "markdown",
   "metadata": {
    "id": "heqm19EwQ__z",
    "tags": []
   },
   "source": [
    "### Model Definition"
   ]
  },
  {
   "cell_type": "code",
   "execution_count": 33,
   "metadata": {
    "colab": {
     "base_uri": "https://localhost:8080/"
    },
    "id": "NIcfYYneUnKn",
    "outputId": "2d3836a2-f7f6-4526-99ac-963283cf79fe"
   },
   "outputs": [
    {
     "name": "stdout",
     "output_type": "stream",
     "text": [
      "Epoch 1/2\n",
      "854/854 - 13s - loss: 0.0518 - accuracy: 0.9826 - val_loss: 0.0164 - val_accuracy: 0.9956\n",
      "Epoch 2/2\n",
      "854/854 - 13s - loss: 0.0161 - accuracy: 0.9953 - val_loss: 0.0118 - val_accuracy: 0.9966\n",
      "Elapsed time: 0:00:25.72\n"
     ]
    }
   ],
   "source": [
    "start_time=time.time()\n",
    "\n",
    "cnn = Sequential()\n",
    "cnn.add(Conv2D(\n",
    "    filters=64,\n",
    "    kernel_size=(1,y.shape[1]),\n",
    "    strides=(1,1),\n",
    "    activation='relu',\n",
    "    input_shape=(1, x.shape[1], 1)))\n",
    "cnn.add(MaxPooling2D(pool_size=(1,2)))\n",
    "cnn.add(Conv2D(\n",
    "    filters=128,\n",
    "    kernel_size=(1,y.shape[1]),\n",
    "    strides=(1,1),\n",
    "    activation='relu'))\n",
    "cnn.add(MaxPooling2D(pool_size=(1,2)))\n",
    "cnn.add(Flatten())\n",
    "cnn.add(Dense(1028, activation='relu'))\n",
    "cnn.add(Dropout(0.5))\n",
    "cnn.add(Dense(2, activation='softmax'))\n",
    "\n",
    "cnn.compile(loss='categorical_crossentropy', optimizer='adam', metrics=['accuracy'])\n",
    "\n",
    "monitor = EarlyStopping(monitor='val_loss', min_delta=1e-3, patience=2, verbose=2, mode='auto')  \n",
    "\n",
    "checkpointer = ModelCheckpoint(filepath='cnn/best_weights1.hdf5', verbose=0, save_weights_only=True, save_best_only=True) # save best model\n",
    "\n",
    "cnn.fit(\n",
    "    x_train2,\n",
    "    y_train2,\n",
    "    batch_size=128,\n",
    "    epochs=2,\n",
    "    verbose=2,\n",
    "    validation_data=(x_test2, y_test2),\n",
    "    callbacks=[monitor,checkpointer]\n",
    ")\n",
    "\n",
    "elapsed_time = time.time() - start_time\n",
    "print(\"Elapsed time: {}\".format(hms_string(elapsed_time)))"
   ]
  },
  {
   "cell_type": "markdown",
   "metadata": {
    "id": "egYriYiXURdi",
    "jp-MarkdownHeadingCollapsed": true,
    "tags": []
   },
   "source": [
    "### Predict"
   ]
  },
  {
   "cell_type": "code",
   "execution_count": 34,
   "metadata": {
    "colab": {
     "base_uri": "https://localhost:8080/",
     "height": 510
    },
    "id": "NEqngH94dORx",
    "outputId": "9a59341e-a62c-4c64-c227-ff0f5e7ab620"
   },
   "outputs": [],
   "source": [
    "#@title Load best weights\n",
    "cnn.load_weights('cnn/best_weights1.hdf5')"
   ]
  },
  {
   "cell_type": "code",
   "execution_count": 35,
   "metadata": {
    "id": "6igPbGfjccUM"
   },
   "outputs": [
    {
     "name": "stdout",
     "output_type": "stream",
     "text": [
      "Final RMSE score: 0.0579\n",
      "Accuracy: 0.9966480753908289\n",
      "Averaged F1: 0.996648115505803\n",
      "              precision    recall  f1-score   support\n",
      "\n",
      "           0       1.00      1.00      1.00     14406\n",
      "           1       1.00      1.00      1.00     21991\n",
      "\n",
      "    accuracy                           1.00     36397\n",
      "   macro avg       1.00      1.00      1.00     36397\n",
      "weighted avg       1.00      1.00      1.00     36397\n",
      "\n"
     ]
    }
   ],
   "source": [
    "y_true2 = np.argmax(y_test2,axis=1)\n",
    "pred2 = cnn.predict(x_test2)\n",
    "pred2 = np.argmax(pred2,axis=1)\n",
    "\n",
    "score = np.sqrt(metrics.mean_squared_error(pred2,y_true2))\n",
    "print(\"Final RMSE score: {:.4}\".format(score))\n",
    "\n",
    "score = metrics.accuracy_score(y_true2, pred2)\n",
    "print('Accuracy: {}'.format(score))\n",
    "\n",
    "f1 = metrics.f1_score(y_true2, pred2, average='weighted')\n",
    "print('Averaged F1: {}'.format(f1))\n",
    "\n",
    "print(metrics.classification_report(y_true2, pred2))"
   ]
  },
  {
   "cell_type": "markdown",
   "metadata": {
    "tags": []
   },
   "source": [
    "### Confusion Matrix"
   ]
  },
  {
   "cell_type": "code",
   "execution_count": 36,
   "metadata": {},
   "outputs": [
    {
     "name": "stdout",
     "output_type": "stream",
     "text": [
      "[[0.62 0.38]\n",
      " [1.   0.  ]]\n"
     ]
    }
   ],
   "source": [
    "pred2=cnn.predict(x_test2)\n",
    "con_mat = tf.math.confusion_matrix(labels=y_test2, predictions=pred2).numpy()\n",
    "\n",
    "print(np.around(con_mat.astype('float') / con_mat.sum(axis=1)[:, np.newaxis], decimals=2))"
   ]
  },
  {
   "cell_type": "markdown",
   "metadata": {
    "id": "AlotFfbGUaoX",
    "tags": []
   },
   "source": [
    "## CNN 2"
   ]
  },
  {
   "cell_type": "markdown",
   "metadata": {
    "id": "heqm19EwQ__z",
    "tags": []
   },
   "source": [
    "### Model Definition"
   ]
  },
  {
   "cell_type": "code",
   "execution_count": 37,
   "metadata": {
    "colab": {
     "base_uri": "https://localhost:8080/"
    },
    "id": "NIcfYYneUnKn",
    "outputId": "2d3836a2-f7f6-4526-99ac-963283cf79fe"
   },
   "outputs": [
    {
     "name": "stdout",
     "output_type": "stream",
     "text": [
      "Epoch 1/5\n",
      "854/854 - 5s - loss: 0.0676 - accuracy: 0.9778 - val_loss: 0.0276 - val_accuracy: 0.9923\n",
      "Epoch 2/5\n",
      "854/854 - 5s - loss: 0.0227 - accuracy: 0.9927 - val_loss: 0.0130 - val_accuracy: 0.9966\n",
      "Epoch 3/5\n",
      "854/854 - 5s - loss: 0.0150 - accuracy: 0.9960 - val_loss: 0.0107 - val_accuracy: 0.9969\n",
      "Epoch 4/5\n",
      "854/854 - 5s - loss: 0.0130 - accuracy: 0.9961 - val_loss: 0.0200 - val_accuracy: 0.9925\n",
      "Epoch 5/5\n",
      "854/854 - 5s - loss: 0.0122 - accuracy: 0.9964 - val_loss: 0.0098 - val_accuracy: 0.9969\n",
      "Epoch 00005: early stopping\n",
      "Elapsed time: 0:00:25.31\n"
     ]
    }
   ],
   "source": [
    "start_time=time.time()\n",
    "\n",
    "cnn = Sequential()\n",
    "cnn.add(Conv2D(\n",
    "    filters=16,\n",
    "    kernel_size=(1,y.shape[1]),\n",
    "    strides=(3,1),\n",
    "    activation='relu',\n",
    "    input_shape=(1, x.shape[1], 1)))\n",
    "cnn.add(MaxPooling2D(pool_size=(1,2)))\n",
    "cnn.add(Conv2D(\n",
    "    filters=32,\n",
    "    kernel_size=(1,y.shape[1]),\n",
    "    strides=(1,1),\n",
    "    activation='relu'))\n",
    "cnn.add(MaxPooling2D(pool_size=(1,2)))\n",
    "cnn.add(Flatten())\n",
    "cnn.add(Dense(1028, activation='relu'))\n",
    "cnn.add(Dropout(0.5))\n",
    "cnn.add(Dense(2, activation='softmax'))\n",
    "\n",
    "cnn.compile(loss='categorical_crossentropy', optimizer='adam', metrics=['accuracy'])\n",
    "\n",
    "monitor = EarlyStopping(monitor='val_loss', min_delta=1e-3, patience=2, verbose=2, mode='auto')  \n",
    "\n",
    "checkpointer = ModelCheckpoint(filepath='cnn/best_weights2.hdf5', verbose=0, save_weights_only=True, save_best_only=True) # save best model\n",
    "\n",
    "cnn.fit(\n",
    "    x_train2,\n",
    "    y_train2,\n",
    "    batch_size=128,\n",
    "    epochs=5,\n",
    "    verbose=2,\n",
    "    validation_data=(x_test2, y_test2),\n",
    "    callbacks=[monitor,checkpointer]\n",
    ")\n",
    "\n",
    "elapsed_time = time.time() - start_time\n",
    "print(\"Elapsed time: {}\".format(hms_string(elapsed_time)))"
   ]
  },
  {
   "cell_type": "markdown",
   "metadata": {
    "id": "egYriYiXURdi",
    "jp-MarkdownHeadingCollapsed": true,
    "tags": []
   },
   "source": [
    "### Predict"
   ]
  },
  {
   "cell_type": "code",
   "execution_count": 38,
   "metadata": {
    "colab": {
     "base_uri": "https://localhost:8080/",
     "height": 510
    },
    "id": "NEqngH94dORx",
    "outputId": "9a59341e-a62c-4c64-c227-ff0f5e7ab620"
   },
   "outputs": [],
   "source": [
    "#@title Load best weights\n",
    "cnn.load_weights('cnn/best_weights2.hdf5')"
   ]
  },
  {
   "cell_type": "code",
   "execution_count": 39,
   "metadata": {
    "id": "6igPbGfjccUM"
   },
   "outputs": [
    {
     "name": "stdout",
     "output_type": "stream",
     "text": [
      "Final RMSE score: 0.05572\n",
      "Accuracy: 0.996895348517735\n",
      "Averaged F1: 0.9968948822671937\n",
      "              precision    recall  f1-score   support\n",
      "\n",
      "           0       1.00      1.00      1.00     14406\n",
      "           1       1.00      1.00      1.00     21991\n",
      "\n",
      "    accuracy                           1.00     36397\n",
      "   macro avg       1.00      1.00      1.00     36397\n",
      "weighted avg       1.00      1.00      1.00     36397\n",
      "\n"
     ]
    }
   ],
   "source": [
    "y_true2 = np.argmax(y_test2,axis=1)\n",
    "pred2 = cnn.predict(x_test2)\n",
    "pred2 = np.argmax(pred2,axis=1)\n",
    "\n",
    "score = np.sqrt(metrics.mean_squared_error(pred2,y_true2))\n",
    "print(\"Final RMSE score: {:.4}\".format(score))\n",
    "\n",
    "score = metrics.accuracy_score(y_true2, pred2)\n",
    "print('Accuracy: {}'.format(score))\n",
    "\n",
    "f1 = metrics.f1_score(y_true2, pred2, average='weighted')\n",
    "print('Averaged F1: {}'.format(f1))\n",
    "\n",
    "print(metrics.classification_report(y_true2, pred2))"
   ]
  },
  {
   "cell_type": "markdown",
   "metadata": {
    "tags": []
   },
   "source": [
    "### Confusion Matrix"
   ]
  },
  {
   "cell_type": "code",
   "execution_count": 40,
   "metadata": {},
   "outputs": [
    {
     "name": "stdout",
     "output_type": "stream",
     "text": [
      "[[0.59 0.41]\n",
      " [1.   0.  ]]\n"
     ]
    }
   ],
   "source": [
    "pred2=cnn.predict(x_test2)\n",
    "con_mat = tf.math.confusion_matrix(labels=y_test2, predictions=pred2).numpy()\n",
    "\n",
    "print(np.around(con_mat.astype('float') / con_mat.sum(axis=1)[:, np.newaxis], decimals=2))"
   ]
  },
  {
   "cell_type": "markdown",
   "metadata": {
    "id": "AlotFfbGUaoX",
    "tags": []
   },
   "source": [
    "## CNN 3"
   ]
  },
  {
   "cell_type": "markdown",
   "metadata": {
    "id": "heqm19EwQ__z",
    "tags": []
   },
   "source": [
    "### Model Definition"
   ]
  },
  {
   "cell_type": "code",
   "execution_count": 41,
   "metadata": {
    "colab": {
     "base_uri": "https://localhost:8080/"
    },
    "id": "NIcfYYneUnKn",
    "outputId": "2d3836a2-f7f6-4526-99ac-963283cf79fe"
   },
   "outputs": [
    {
     "name": "stdout",
     "output_type": "stream",
     "text": [
      "Epoch 1/5\n",
      "854/854 - 13s - loss: 0.2689 - accuracy: 0.8881 - val_loss: 0.0853 - val_accuracy: 0.9752\n",
      "Epoch 2/5\n",
      "854/854 - 13s - loss: 0.0820 - accuracy: 0.9770 - val_loss: 0.0606 - val_accuracy: 0.9831\n",
      "Epoch 3/5\n",
      "854/854 - 13s - loss: 0.0695 - accuracy: 0.9818 - val_loss: 0.0587 - val_accuracy: 0.9846\n",
      "Epoch 4/5\n",
      "854/854 - 13s - loss: 0.0651 - accuracy: 0.9824 - val_loss: 0.0555 - val_accuracy: 0.9843\n",
      "Epoch 5/5\n",
      "854/854 - 13s - loss: 0.0610 - accuracy: 0.9829 - val_loss: 0.0497 - val_accuracy: 0.9838\n",
      "Elapsed time: 0:01:04.41\n"
     ]
    }
   ],
   "source": [
    "start_time=time.time()\n",
    "\n",
    "cnn = Sequential()\n",
    "cnn.add(Conv2D(\n",
    "    filters=64,\n",
    "    kernel_size=(1,y.shape[1]),\n",
    "    strides=(1,1),\n",
    "    activation='sigmoid',\n",
    "    input_shape=(1, x.shape[1], 1)))\n",
    "cnn.add(MaxPooling2D(pool_size=(1,2)))\n",
    "cnn.add(Conv2D(\n",
    "    filters=128,\n",
    "    kernel_size=(1,y.shape[1]),\n",
    "    strides=(1,1),\n",
    "    activation='sigmoid'))\n",
    "cnn.add(MaxPooling2D(pool_size=(1,2)))\n",
    "cnn.add(Flatten())\n",
    "cnn.add(Dense(1028, activation='sigmoid'))\n",
    "cnn.add(Dropout(0.5))\n",
    "cnn.add(Dense(2, activation='softmax'))\n",
    "\n",
    "cnn.compile(loss='categorical_crossentropy', optimizer='adam', metrics=['accuracy'])\n",
    "\n",
    "monitor = EarlyStopping(monitor='val_loss', min_delta=1e-3, patience=2, verbose=2, mode='auto')  \n",
    "\n",
    "checkpointer = ModelCheckpoint(filepath='cnn/best_weights3.hdf5', verbose=0, save_weights_only=True, save_best_only=True) # save best model\n",
    "\n",
    "cnn.fit(\n",
    "    x_train2,\n",
    "    y_train2,\n",
    "    batch_size=128,\n",
    "    epochs=5,\n",
    "    verbose=2,\n",
    "    validation_data=(x_test2, y_test2),\n",
    "    callbacks=[monitor,checkpointer]\n",
    ")\n",
    "\n",
    "elapsed_time = time.time() - start_time\n",
    "print(\"Elapsed time: {}\".format(hms_string(elapsed_time)))"
   ]
  },
  {
   "cell_type": "markdown",
   "metadata": {
    "id": "egYriYiXURdi",
    "jp-MarkdownHeadingCollapsed": true,
    "tags": []
   },
   "source": [
    "### Predict"
   ]
  },
  {
   "cell_type": "code",
   "execution_count": 42,
   "metadata": {
    "colab": {
     "base_uri": "https://localhost:8080/",
     "height": 510
    },
    "id": "NEqngH94dORx",
    "outputId": "9a59341e-a62c-4c64-c227-ff0f5e7ab620"
   },
   "outputs": [],
   "source": [
    "#@title Load best weights\n",
    "cnn.load_weights('cnn/best_weights3.hdf5')"
   ]
  },
  {
   "cell_type": "code",
   "execution_count": 43,
   "metadata": {
    "id": "6igPbGfjccUM"
   },
   "outputs": [
    {
     "name": "stdout",
     "output_type": "stream",
     "text": [
      "Final RMSE score: 0.1272\n",
      "Accuracy: 0.9838173475835921\n",
      "Averaged F1: 0.9837850228009662\n",
      "              precision    recall  f1-score   support\n",
      "\n",
      "           0       0.99      0.97      0.98     14406\n",
      "           1       0.98      0.99      0.99     21991\n",
      "\n",
      "    accuracy                           0.98     36397\n",
      "   macro avg       0.99      0.98      0.98     36397\n",
      "weighted avg       0.98      0.98      0.98     36397\n",
      "\n"
     ]
    }
   ],
   "source": [
    "y_true2 = np.argmax(y_test2,axis=1)\n",
    "pred2 = cnn.predict(x_test2)\n",
    "pred2 = np.argmax(pred2,axis=1)\n",
    "\n",
    "score = np.sqrt(metrics.mean_squared_error(pred2,y_true2))\n",
    "print(\"Final RMSE score: {:.4}\".format(score))\n",
    "\n",
    "score = metrics.accuracy_score(y_true2, pred2)\n",
    "print('Accuracy: {}'.format(score))\n",
    "\n",
    "f1 = metrics.f1_score(y_true2, pred2, average='weighted')\n",
    "print('Averaged F1: {}'.format(f1))\n",
    "\n",
    "print(metrics.classification_report(y_true2, pred2))"
   ]
  },
  {
   "cell_type": "markdown",
   "metadata": {
    "tags": []
   },
   "source": [
    "### Confusion Matrix"
   ]
  },
  {
   "cell_type": "code",
   "execution_count": 44,
   "metadata": {},
   "outputs": [
    {
     "name": "stdout",
     "output_type": "stream",
     "text": [
      "[[0.58 0.42]\n",
      " [1.   0.  ]]\n"
     ]
    }
   ],
   "source": [
    "pred2=cnn.predict(x_test2)\n",
    "con_mat = tf.math.confusion_matrix(labels=y_test2, predictions=pred2).numpy()\n",
    "\n",
    "print(np.around(con_mat.astype('float') / con_mat.sum(axis=1)[:, np.newaxis], decimals=2))"
   ]
  },
  {
   "cell_type": "markdown",
   "metadata": {
    "id": "AlotFfbGUaoX",
    "tags": []
   },
   "source": [
    "## CNN 4"
   ]
  },
  {
   "cell_type": "markdown",
   "metadata": {
    "id": "heqm19EwQ__z",
    "tags": []
   },
   "source": [
    "### Model Definition"
   ]
  },
  {
   "cell_type": "code",
   "execution_count": 45,
   "metadata": {
    "colab": {
     "base_uri": "https://localhost:8080/"
    },
    "id": "NIcfYYneUnKn",
    "outputId": "2d3836a2-f7f6-4526-99ac-963283cf79fe"
   },
   "outputs": [
    {
     "name": "stdout",
     "output_type": "stream",
     "text": [
      "Epoch 1/5\n",
      "854/854 - 7s - loss: 0.2637 - accuracy: 0.8936 - val_loss: 0.1863 - val_accuracy: 0.9218\n",
      "Epoch 2/5\n",
      "854/854 - 7s - loss: 0.1625 - accuracy: 0.9411 - val_loss: 0.1421 - val_accuracy: 0.9324\n",
      "Epoch 3/5\n",
      "854/854 - 7s - loss: 0.1202 - accuracy: 0.9658 - val_loss: 0.1029 - val_accuracy: 0.9683\n",
      "Epoch 4/5\n",
      "854/854 - 7s - loss: 0.0991 - accuracy: 0.9702 - val_loss: 0.0854 - val_accuracy: 0.9709\n",
      "Epoch 5/5\n",
      "854/854 - 7s - loss: 0.0855 - accuracy: 0.9735 - val_loss: 0.0732 - val_accuracy: 0.9743\n",
      "Elapsed time: 0:00:33.70\n"
     ]
    }
   ],
   "source": [
    "start_time=time.time()\n",
    "\n",
    "cnn = Sequential()\n",
    "cnn.add(Conv2D(\n",
    "    filters=64,\n",
    "    kernel_size=(1,y.shape[1]),\n",
    "    strides=(1,1),\n",
    "    activation='relu',\n",
    "    input_shape=(1, x.shape[1], 1)))\n",
    "cnn.add(MaxPooling2D(pool_size=(1,2)))\n",
    "cnn.add(Conv2D(\n",
    "    filters=32,\n",
    "    kernel_size=(1,y.shape[1]),\n",
    "    strides=(1,1),\n",
    "    activation='relu'))\n",
    "cnn.add(MaxPooling2D(pool_size=(1,2)))\n",
    "cnn.add(Flatten())\n",
    "cnn.add(Dense(1028, activation='relu'))\n",
    "cnn.add(Dropout(0.5))\n",
    "cnn.add(Dense(2, activation='softmax'))\n",
    "\n",
    "cnn.compile(loss='categorical_crossentropy', optimizer='sgd', metrics=['accuracy'])\n",
    "\n",
    "monitor = EarlyStopping(monitor='val_loss', min_delta=1e-3, patience=2, verbose=2, mode='auto')  \n",
    "\n",
    "checkpointer = ModelCheckpoint(filepath='cnn/best_weights4.hdf5', verbose=0, save_weights_only=True, save_best_only=True) # save best model\n",
    "\n",
    "cnn.fit(\n",
    "    x_train2,\n",
    "    y_train2,\n",
    "    batch_size=128,\n",
    "    epochs=5,\n",
    "    verbose=2,\n",
    "    validation_data=(x_test2, y_test2),\n",
    "    callbacks=[monitor,checkpointer]\n",
    ")\n",
    "\n",
    "elapsed_time = time.time() - start_time\n",
    "print(\"Elapsed time: {}\".format(hms_string(elapsed_time)))"
   ]
  },
  {
   "cell_type": "markdown",
   "metadata": {
    "id": "egYriYiXURdi",
    "tags": []
   },
   "source": [
    "### Predict"
   ]
  },
  {
   "cell_type": "code",
   "execution_count": 46,
   "metadata": {
    "colab": {
     "base_uri": "https://localhost:8080/",
     "height": 510
    },
    "id": "NEqngH94dORx",
    "outputId": "9a59341e-a62c-4c64-c227-ff0f5e7ab620"
   },
   "outputs": [],
   "source": [
    "#@title Load best weights\n",
    "cnn.load_weights('cnn/best_weights4.hdf5')"
   ]
  },
  {
   "cell_type": "code",
   "execution_count": 47,
   "metadata": {
    "id": "6igPbGfjccUM"
   },
   "outputs": [
    {
     "name": "stdout",
     "output_type": "stream",
     "text": [
      "Final RMSE score: 0.1604\n",
      "Accuracy: 0.9742835948017694\n",
      "Averaged F1: 0.9741376672276821\n",
      "              precision    recall  f1-score   support\n",
      "\n",
      "           0       1.00      0.94      0.97     14406\n",
      "           1       0.96      1.00      0.98     21991\n",
      "\n",
      "    accuracy                           0.97     36397\n",
      "   macro avg       0.98      0.97      0.97     36397\n",
      "weighted avg       0.98      0.97      0.97     36397\n",
      "\n"
     ]
    }
   ],
   "source": [
    "y_true2 = np.argmax(y_test2,axis=1)\n",
    "pred2 = cnn.predict(x_test2)\n",
    "pred2 = np.argmax(pred2,axis=1)\n",
    "\n",
    "score = np.sqrt(metrics.mean_squared_error(pred2,y_true2))\n",
    "print(\"Final RMSE score: {:.4}\".format(score))\n",
    "\n",
    "score = metrics.accuracy_score(y_true2, pred2)\n",
    "print('Accuracy: {}'.format(score))\n",
    "\n",
    "f1 = metrics.f1_score(y_true2, pred2, average='weighted')\n",
    "print('Averaged F1: {}'.format(f1))\n",
    "\n",
    "print(metrics.classification_report(y_true2, pred2))"
   ]
  },
  {
   "cell_type": "markdown",
   "metadata": {
    "tags": []
   },
   "source": [
    "### Confusion Matrix"
   ]
  },
  {
   "cell_type": "code",
   "execution_count": 48,
   "metadata": {},
   "outputs": [
    {
     "name": "stdout",
     "output_type": "stream",
     "text": [
      "[[0.62 0.38]\n",
      " [1.   0.  ]]\n"
     ]
    }
   ],
   "source": [
    "pred2=cnn.predict(x_test2)\n",
    "con_mat = tf.math.confusion_matrix(labels=y_test2, predictions=pred2).numpy()\n",
    "\n",
    "print(np.around(con_mat.astype('float') / con_mat.sum(axis=1)[:, np.newaxis], decimals=2))"
   ]
  },
  {
   "cell_type": "markdown",
   "metadata": {
    "id": "AlotFfbGUaoX",
    "tags": []
   },
   "source": [
    "## CNN 5"
   ]
  },
  {
   "cell_type": "markdown",
   "metadata": {
    "id": "heqm19EwQ__z",
    "tags": []
   },
   "source": [
    "### Model Definition"
   ]
  },
  {
   "cell_type": "code",
   "execution_count": 49,
   "metadata": {
    "colab": {
     "base_uri": "https://localhost:8080/"
    },
    "id": "NIcfYYneUnKn",
    "outputId": "2d3836a2-f7f6-4526-99ac-963283cf79fe"
   },
   "outputs": [
    {
     "name": "stdout",
     "output_type": "stream",
     "text": [
      "Epoch 1/5\n",
      "854/854 - 4s - loss: 0.1096 - accuracy: 0.9611 - val_loss: 0.0556 - val_accuracy: 0.9838\n",
      "Epoch 2/5\n",
      "854/854 - 3s - loss: 0.0542 - accuracy: 0.9834 - val_loss: 0.0592 - val_accuracy: 0.9790\n",
      "Epoch 3/5\n",
      "854/854 - 3s - loss: 0.0439 - accuracy: 0.9855 - val_loss: 0.0346 - val_accuracy: 0.9885\n",
      "Epoch 4/5\n",
      "854/854 - 3s - loss: 0.0294 - accuracy: 0.9899 - val_loss: 0.0218 - val_accuracy: 0.9934\n",
      "Epoch 5/5\n",
      "854/854 - 3s - loss: 0.0237 - accuracy: 0.9922 - val_loss: 0.0216 - val_accuracy: 0.9924\n",
      "Elapsed time: 0:00:17.20\n"
     ]
    }
   ],
   "source": [
    "start_time=time.time()\n",
    "\n",
    "cnn = Sequential()\n",
    "cnn.add(Conv2D(\n",
    "    filters=8,\n",
    "    kernel_size=(1,y.shape[1]),\n",
    "    strides=(1,1),\n",
    "    activation='relu',\n",
    "    input_shape=(1, x.shape[1], 1)))\n",
    "cnn.add(MaxPooling2D(pool_size=(1,2)))\n",
    "cnn.add(Conv2D(\n",
    "    filters=8,\n",
    "    kernel_size=(1,y.shape[1]),\n",
    "    strides=(1,1),\n",
    "    activation='relu'))\n",
    "cnn.add(MaxPooling2D(pool_size=(1,2)))\n",
    "cnn.add(Conv2D(\n",
    "    filters=8,\n",
    "    kernel_size=(1,y.shape[1]),\n",
    "    strides=(1,1),\n",
    "    activation='relu'))\n",
    "cnn.add(MaxPooling2D(pool_size=(1,2)))\n",
    "cnn.add(Conv2D(\n",
    "    filters=8,\n",
    "    kernel_size=(1,y.shape[1]),\n",
    "    strides=(1,1),\n",
    "    activation='relu'))\n",
    "cnn.add(MaxPooling2D(pool_size=(1,2)))\n",
    "cnn.add(Flatten())\n",
    "cnn.add(Dense(1028, activation='relu'))\n",
    "cnn.add(Dropout(0.25))\n",
    "cnn.add(Dense(2, activation='softmax'))\n",
    "\n",
    "cnn.compile(loss='categorical_crossentropy', optimizer='adam', metrics=['accuracy'])\n",
    "\n",
    "monitor = EarlyStopping(monitor='val_loss', min_delta=1e-3, patience=2, verbose=2, mode='auto')  \n",
    "\n",
    "checkpointer = ModelCheckpoint(filepath='cnn/best_weights5.hdf5', verbose=0, save_weights_only=True, save_best_only=True) # save best model\n",
    "\n",
    "cnn.fit(\n",
    "    x_train2,\n",
    "    y_train2,\n",
    "    batch_size=128,\n",
    "    epochs=5,\n",
    "    verbose=2,\n",
    "    validation_data=(x_test2, y_test2),\n",
    "    callbacks=[monitor,checkpointer]\n",
    ")\n",
    "\n",
    "elapsed_time = time.time() - start_time\n",
    "print(\"Elapsed time: {}\".format(hms_string(elapsed_time)))"
   ]
  },
  {
   "cell_type": "markdown",
   "metadata": {
    "id": "egYriYiXURdi",
    "jp-MarkdownHeadingCollapsed": true,
    "tags": []
   },
   "source": [
    "### Predict"
   ]
  },
  {
   "cell_type": "code",
   "execution_count": 50,
   "metadata": {
    "colab": {
     "base_uri": "https://localhost:8080/",
     "height": 510
    },
    "id": "NEqngH94dORx",
    "outputId": "9a59341e-a62c-4c64-c227-ff0f5e7ab620"
   },
   "outputs": [],
   "source": [
    "#@title Load best weights\n",
    "cnn.load_weights('cnn/best_weights5.hdf5')"
   ]
  },
  {
   "cell_type": "code",
   "execution_count": 51,
   "metadata": {
    "id": "6igPbGfjccUM"
   },
   "outputs": [
    {
     "name": "stdout",
     "output_type": "stream",
     "text": [
      "Final RMSE score: 0.08708\n",
      "Accuracy: 0.9924169574415473\n",
      "Averaged F1: 0.9924159557228742\n",
      "              precision    recall  f1-score   support\n",
      "\n",
      "           0       0.99      0.99      0.99     14406\n",
      "           1       0.99      0.99      0.99     21991\n",
      "\n",
      "    accuracy                           0.99     36397\n",
      "   macro avg       0.99      0.99      0.99     36397\n",
      "weighted avg       0.99      0.99      0.99     36397\n",
      "\n"
     ]
    }
   ],
   "source": [
    "y_true2 = np.argmax(y_test2,axis=1)\n",
    "pred2 = cnn.predict(x_test2)\n",
    "pred2 = np.argmax(pred2,axis=1)\n",
    "\n",
    "score = np.sqrt(metrics.mean_squared_error(pred2,y_true2))\n",
    "print(\"Final RMSE score: {:.4}\".format(score))\n",
    "\n",
    "score = metrics.accuracy_score(y_true2, pred2)\n",
    "print('Accuracy: {}'.format(score))\n",
    "\n",
    "f1 = metrics.f1_score(y_true2, pred2, average='weighted')\n",
    "print('Averaged F1: {}'.format(f1))\n",
    "\n",
    "print(metrics.classification_report(y_true2, pred2))"
   ]
  },
  {
   "cell_type": "markdown",
   "metadata": {
    "tags": []
   },
   "source": [
    "### Confusion Matrix"
   ]
  },
  {
   "cell_type": "code",
   "execution_count": 52,
   "metadata": {},
   "outputs": [
    {
     "name": "stdout",
     "output_type": "stream",
     "text": [
      "[[0.62 0.38]\n",
      " [1.   0.  ]]\n"
     ]
    }
   ],
   "source": [
    "pred2=cnn.predict(x_test2)\n",
    "con_mat = tf.math.confusion_matrix(labels=y_test2, predictions=pred2).numpy()\n",
    "\n",
    "print(np.around(con_mat.astype('float') / con_mat.sum(axis=1)[:, np.newaxis], decimals=2))"
   ]
  },
  {
   "cell_type": "markdown",
   "metadata": {},
   "source": [
    "# Results"
   ]
  },
  {
   "cell_type": "markdown",
   "metadata": {},
   "source": [
    "## Experimental Results\n",
    "Fully Connected Model 1:  \n",
    "Final RMSE score: 0.04718  \n",
    "Accuracy: 0.9972799956040334  \n",
    "Averaged F1: 0.997279914141294  \n",
    "  \n",
    "Fully Connected Model 2: \n",
    "Final RMSE score: 0.05672  \n",
    "Accuracy: 0.9966206005989504  \n",
    "Averaged F1: 0.9966201745337122  \n",
    "\n",
    "Fully Connected Model 3: \n",
    "Final RMSE score: 0.04846  \n",
    "Accuracy: 0.9970052476852488  \n",
    "Averaged F1: 0.9970054088047998  \n",
    "\n",
    "Fully Connected Model 4: \n",
    "Final RMSE score: 0.05589  \n",
    "Accuracy: 0.996290903096409  \n",
    "Averaged F1: 0.9962917640882064  \n",
    "\n",
    "Fully Connected Model 5: \n",
    "Final RMSE score: 0.108  \n",
    "Accuracy: 0.9862351292688958  \n",
    "Averaged F1: 0.9862152862810428  \n",
    "\n",
    "--\n",
    "\n",
    "Convolutional Neural Network 1:  \n",
    "Final RMSE score: 0.0579  \n",
    "Accuracy: 0.9966480753908289  \n",
    "Averaged F1: 0.996648115505803  \n",
    "\n",
    "Convolutional Neural Network 2:  \n",
    "Final RMSE score: 0.05572  \n",
    "Accuracy: 0.996895348517735  \n",
    "Averaged F1: 0.9968948822671937  \n",
    "\n",
    "Convolutional Neural Network 3:  \n",
    "Final RMSE score: 0.1272  \n",
    "Accuracy: 0.9838173475835921  \n",
    "Averaged F1: 0.9837850228009662  \n",
    "\n",
    "Convolutional Neural Network 4:  \n",
    "Final RMSE score: 0.1604  \n",
    "Accuracy: 0.9742835948017694  \n",
    "Averaged F1: 0.9741376672276821  \n",
    "\n",
    "Convolutional Neural Network 5:  \n",
    "Final RMSE score: 0.08708  \n",
    "Accuracy: 0.9924169574415473  \n",
    "Averaged F1: 0.9924159557228742  "
   ]
  },
  {
   "cell_type": "markdown",
   "metadata": {},
   "source": [
    "## Summary\n",
    "Best 3 models by RMSE:  \n",
    "\n",
    "Fully Connected Model 1:  \n",
    "Final RMSE score: 0.04718  \n",
    "Accuracy: 0.9972799956040334  \n",
    "Averaged F1: 0.997279914141294  \n",
    "Layers: 50, 25, 10  \n",
    "Activation: Relu  \n",
    "Optimizer: Adam  \n",
    "\n",
    "Fully Connected Model 3:  \n",
    "Final RMSE score: 0.04846  \n",
    "Accuracy: 0.9970052476852488  \n",
    "Averaged F1: 0.9970054088047998  \n",
    "Layers: 50, 25, 25, 25, 25  \n",
    "Activation: Relu  \n",
    "Optimizer: Adam  \n",
    "\n",
    "Convolutional Neural Network 2:  \n",
    "Final RMSE score: 0.05572  \n",
    "Accuracy: 0.996895348517735  \n",
    "Averaged F1: 0.9968948822671937  \n",
    "Information See #CNN-2"
   ]
  }
 ],
 "metadata": {
  "colab": {
   "collapsed_sections": [
    "JZpV7BG0iFml",
    "tdijX7uUip_G",
    "NTGGyYJtSnwc",
    "Gcc57-QjlBg3",
    "Vqu7TXe4Gjrj",
    "heqm19EwQ__z",
    "Q3nVZmOiUg43",
    "9h8pIQYrUg45",
    "m8x-SR1IUg47",
    "iEIPryigUhQf",
    "0y1nMYZCUhcX",
    "eYRAOi4QUhcZ",
    "K4eByahVUhca",
    "3HrHiqtxUhqO",
    "fivN4WB6UhqO",
    "CaoLVQCvUhqQ"
   ],
   "name": "project2.ipynb",
   "provenance": []
  },
  "kernelspec": {
   "display_name": "Python 3 (ipykernel)",
   "language": "python",
   "name": "python3"
  },
  "language_info": {
   "codemirror_mode": {
    "name": "ipython",
    "version": 3
   },
   "file_extension": ".py",
   "mimetype": "text/x-python",
   "name": "python",
   "nbconvert_exporter": "python",
   "pygments_lexer": "ipython3",
   "version": "3.9.7"
  },
  "toc-autonumbering": false,
  "toc-showtags": false
 },
 "nbformat": 4,
 "nbformat_minor": 4
}
