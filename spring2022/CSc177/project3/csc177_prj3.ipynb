{
 "cells": [
  {
   "cell_type": "markdown",
   "metadata": {},
   "source": [
    "# CSc 177 Prj 3 - Classification Models\n",
    "\n",
    "Author: Alec Resha\n",
    "Date: 04/19/2022"
   ]
  },
  {
   "cell_type": "code",
   "execution_count": 1,
   "metadata": {},
   "outputs": [],
   "source": [
    "import pandas as pd\n",
    "import numpy as np\n",
    "import matplotlib.pyplot as plt\n",
    "\n",
    "from sklearn.model_selection import train_test_split\n",
    "from sklearn.naive_bayes import GaussianNB\n",
    "from sklearn.metrics import accuracy_score, confusion_matrix\n",
    "from sklearn.neighbors import KNeighborsClassifier\n",
    "from sklearn import svm\n",
    "from sklearn import tree\n",
    "from sklearn.linear_model import LogisticRegression\n",
    "from seaborn import heatmap\n"
   ]
  },
  {
   "cell_type": "markdown",
   "metadata": {},
   "source": [
    "## My Dataset\n",
    "Wine Quality Dataset for predicting quality (0+10)   "
   ]
  },
  {
   "cell_type": "markdown",
   "metadata": {},
   "source": [
    "### Data Processing"
   ]
  },
  {
   "cell_type": "code",
   "execution_count": 2,
   "metadata": {},
   "outputs": [],
   "source": [
    "df = pd.read_csv('data/winequality-white.csv', sep=';')\n",
    "df.dropna(inplace=True)"
   ]
  },
  {
   "cell_type": "markdown",
   "metadata": {},
   "source": [
    "## Data setup"
   ]
  },
  {
   "cell_type": "code",
   "execution_count": 3,
   "metadata": {},
   "outputs": [],
   "source": [
    "# Using all the features\n",
    "x = df.drop(['quality'], axis=1).values\n",
    "y = df['quality'].values"
   ]
  },
  {
   "cell_type": "code",
   "execution_count": 4,
   "metadata": {},
   "outputs": [],
   "source": [
    "x_train, x_test, y_train, y_test = train_test_split(x, y, test_size=0.2, random_state=42)"
   ]
  },
  {
   "cell_type": "code",
   "execution_count": 18,
   "metadata": {},
   "outputs": [],
   "source": [
    "def make_heatmap(cm, y_pred):\n",
    "    ax = heatmap(cm, annot=True, cmap='Blues')\n",
    "    ax.set_title('Seaborn Confusion Matrix with labels\\n\\n');\n",
    "    ax.set_xlabel('\\nPredicted Values')\n",
    "    ax.set_ylabel('Actual Values ');\n",
    "\n",
    "    ax.xaxis.set_ticks(np.arange(0, len(np.unique(y_pred)), 1))\n",
    "    ax.xaxis.set_ticklabels(np.unique(y_pred))\n",
    "    ax.yaxis.set_ticks(np.arange(0, len(np.unique(y_pred)), 1))\n",
    "    ax.yaxis.set_ticklabels(np.unique(y_pred))\n",
    "\n",
    "    ## Display the visualization of the Confusion Matrix.\n",
    "    plt.show()"
   ]
  },
  {
   "cell_type": "code",
   "execution_count": 14,
   "metadata": {},
   "outputs": [],
   "source": [
    "def run_all_algos(x_train, x_test, y_train, y_test):\n",
    "    acc = {\n",
    "        \"bayes\": 0,\n",
    "        \"knn\": 0,\n",
    "        \"svm\": 0,\n",
    "        \"dt\": 0,\n",
    "        \"log\": 0\n",
    "    }\n",
    "    # Naive Bayes\n",
    "    bayes = GaussianNB()\n",
    "    bayes = bayes.fit(x_train, y_train)\n",
    "    acc[\"bayes\"] = [accuracy_score(y_test, bayes.predict(x_test)), confusion_matrix(y_test, bayes.predict(x_test))]\n",
    "    print(\"Naive Bayes completed\")\n",
    "    \n",
    "    # KNN\n",
    "    knn = KNeighborsClassifier(n_neighbors=4)\n",
    "    knn = knn.fit(x_train, y_train)\n",
    "    acc[\"knn\"] = [accuracy_score(y_test, knn.predict(x_test)), confusion_matrix(y_test, knn.predict(x_test))]\n",
    "    print(\"KNN completed\")\n",
    "    \n",
    "    # SVM\n",
    "    svm_clf = svm.SVC(kernel='sigmoid')\n",
    "    svm_clf = svm_clf.fit(x_train, y_train)\n",
    "    acc[\"svm\"] = [accuracy_score(y_test, svm_clf.predict(x_test)), confusion_matrix(y_test, svm_clf.predict(x_test))]\n",
    "    print(\"SVM completed\")\n",
    "    \n",
    "    # Decision Tree\n",
    "    dt = tree.DecisionTreeClassifier()\n",
    "    dt = dt.fit(x_train, y_train)\n",
    "    acc[\"dt\"] = [accuracy_score(y_test, dt.predict(x_test)), confusion_matrix(y_test, dt.predict(x_test))]\n",
    "    print(\"Decision Tree completed\")\n",
    "    \n",
    "    # Logistic Regression\n",
    "    log = LogisticRegression()\n",
    "    log = log.fit(x_train, y_train)\n",
    "    acc[\"log\"] = [accuracy_score(y_test, log.predict(x_test)), confusion_matrix(y_test, log.predict(x_test))]\n",
    "    print(\"Logistic Regression completed\")\n",
    "    \n",
    "    return acc"
   ]
  },
  {
   "cell_type": "code",
   "execution_count": null,
   "metadata": {},
   "outputs": [],
   "source": [
    "def display_data(acc):\n",
    "    "
   ]
  },
  {
   "cell_type": "code",
   "execution_count": 15,
   "metadata": {},
   "outputs": [
    {
     "name": "stdout",
     "output_type": "stream",
     "text": [
      "Naive Bayes completed\n",
      "KNN completed\n",
      "SVM completed\n",
      "Decision Tree completed\n",
      "Logistic Regression completed\n"
     ]
    },
    {
     "name": "stderr",
     "output_type": "stream",
     "text": [
      "C:\\Users\\Alecr\\AppData\\Local\\Programs\\Python\\Python39\\lib\\site-packages\\sklearn\\linear_model\\_logistic.py:763: ConvergenceWarning: lbfgs failed to converge (status=1):\n",
      "STOP: TOTAL NO. of ITERATIONS REACHED LIMIT.\n",
      "\n",
      "Increase the number of iterations (max_iter) or scale the data as shown in:\n",
      "    https://scikit-learn.org/stable/modules/preprocessing.html\n",
      "Please also refer to the documentation for alternative solver options:\n",
      "    https://scikit-learn.org/stable/modules/linear_model.html#logistic-regression\n",
      "  n_iter_i = _check_optimize_result(\n"
     ]
    }
   ],
   "source": [
    "acc = run_all_algos(x_train, x_test, y_train, y_test)"
   ]
  },
  {
   "cell_type": "code",
   "execution_count": 16,
   "metadata": {},
   "outputs": [
    {
     "name": "stdout",
     "output_type": "stream",
     "text": [
      "{'bayes': [0.4387755102040816, array([[  2,   0,   1,   2,   0,   0,   0],\n",
      "       [  1,   6,   8,   6,   4,   0,   0],\n",
      "       [  7,  14, 155,  79,  36,   0,   0],\n",
      "       [  4,   5, 117, 144, 159,   2,   1],\n",
      "       [  0,   0,  22,  41, 123,   6,   0],\n",
      "       [  0,   1,   2,   5,  27,   0,   0],\n",
      "       [  0,   0,   0,   0,   0,   0,   0]], dtype=int64)], 'knn': [0.49183673469387756, array([[  1,   0,   3,   0,   1,   0],\n",
      "       [  1,   3,  11,   9,   1,   0],\n",
      "       [  0,  12, 160,  98,  18,   3],\n",
      "       [  1,   7, 118, 250,  50,   6],\n",
      "       [  0,   4,  35,  87,  60,   6],\n",
      "       [  0,   0,   1,  16,  10,   8]], dtype=int64)], 'svm': [0.3051020408163265, array([[  0,   0,   0,   3,   0,   2],\n",
      "       [  0,   0,  11,  12,   0,   2],\n",
      "       [  0,   0,  90, 171,   0,  30],\n",
      "       [  0,   0, 197, 208,   0,  27],\n",
      "       [  0,   0, 100,  87,   0,   5],\n",
      "       [  0,   0,  27,   7,   0,   1]], dtype=int64)], 'dt': [0.6091836734693877, array([[  0,   1,   3,   1,   0,   0],\n",
      "       [  1,   7,   8,   7,   1,   1],\n",
      "       [  0,  12, 177,  89,  11,   2],\n",
      "       [  0,  10,  77, 281,  51,  13],\n",
      "       [  0,   2,   7,  49, 116,  18],\n",
      "       [  1,   0,   1,   8,   9,  16]], dtype=int64)], 'log': [0.45918367346938777, array([[  1,   0,   2,   2,   0,   0],\n",
      "       [  0,   0,   8,  17,   0,   0],\n",
      "       [  0,   0,  93, 197,   1,   0],\n",
      "       [  0,   0,  78, 353,   1,   0],\n",
      "       [  0,   0,  20, 169,   3,   0],\n",
      "       [  0,   0,   1,  34,   0,   0]], dtype=int64)]}\n"
     ]
    }
   ],
   "source": []
  }
 ],
 "metadata": {
  "interpreter": {
   "hash": "dfca7815ad64dc4e3c8ac2bbacd838bb864d893fbe045acf62ce5a2bc0fe892c"
  },
  "kernelspec": {
   "display_name": "Python 3.9.7 64-bit",
   "language": "python",
   "name": "python3"
  },
  "language_info": {
   "codemirror_mode": {
    "name": "ipython",
    "version": 3
   },
   "file_extension": ".py",
   "mimetype": "text/x-python",
   "name": "python",
   "nbconvert_exporter": "python",
   "pygments_lexer": "ipython3",
   "version": "3.9.12"
  },
  "orig_nbformat": 4
 },
 "nbformat": 4,
 "nbformat_minor": 2
}
