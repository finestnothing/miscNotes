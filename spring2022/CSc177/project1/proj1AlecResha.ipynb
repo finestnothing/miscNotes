{
 "cells": [
  {
   "cell_type": "markdown",
   "metadata": {},
   "source": [
    "# Data Pre-Processing Project\n",
    "\n",
    "## CSc 177 Project 1\n",
    "\n",
    "## Author: Alec Resha"
   ]
  },
  {
   "cell_type": "code",
   "execution_count": null,
   "metadata": {},
   "outputs": [],
   "source": [
    "# Import statements"
   ]
  },
  {
   "cell_type": "code",
   "execution_count": 4,
   "metadata": {},
   "outputs": [
    {
     "name": "stderr",
     "output_type": "stream",
     "text": [
      "WARNING: 'git lfs clone' is deprecated and will not be updated\n",
      "          with new flags from 'git clone'\n",
      "\n",
      "'git clone' has been updated in upstream Git to have comparable\n",
      "speeds to 'git lfs clone'.\n",
      "Cloning into 'Openaccess'...\n"
     ]
    }
   ],
   "source": [
    "# Using Met Museum Openaccess CSV\n",
    "# approximately 400mb\n",
    "!git lfs clone https://github.com/metmuseum/Openaccess"
   ]
  }
 ],
 "metadata": {
  "interpreter": {
   "hash": "dfca7815ad64dc4e3c8ac2bbacd838bb864d893fbe045acf62ce5a2bc0fe892c"
  },
  "kernelspec": {
   "display_name": "Python 3.9.7 64-bit",
   "language": "python",
   "name": "python3"
  },
  "language_info": {
   "codemirror_mode": {
    "name": "ipython",
    "version": 3
   },
   "file_extension": ".py",
   "mimetype": "text/x-python",
   "name": "python",
   "nbconvert_exporter": "python",
   "pygments_lexer": "ipython3",
   "version": "3.9.7"
  },
  "orig_nbformat": 4
 },
 "nbformat": 4,
 "nbformat_minor": 2
}
